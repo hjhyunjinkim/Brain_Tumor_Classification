{
  "nbformat": 4,
  "nbformat_minor": 0,
  "metadata": {
    "accelerator": "GPU",
    "colab": {
      "name": "CNN ResNet Implementation.ipynb",
      "provenance": [],
      "collapsed_sections": []
    },
    "kernelspec": {
      "display_name": "Python 3",
      "name": "python3"
    },
    "language_info": {
      "name": "python"
    },
    "widgets": {
      "application/vnd.jupyter.widget-state+json": {
        "a0edb0713fb14cc3a36677139410b6c5": {
          "model_module": "@jupyter-widgets/controls",
          "model_name": "HBoxModel",
          "model_module_version": "1.5.0",
          "state": {
            "_view_name": "HBoxView",
            "_dom_classes": [],
            "_model_name": "HBoxModel",
            "_view_module": "@jupyter-widgets/controls",
            "_model_module_version": "1.5.0",
            "_view_count": null,
            "_view_module_version": "1.5.0",
            "box_style": "",
            "layout": "IPY_MODEL_a61ca28f0dc9439da8a38d957423bc76",
            "_model_module": "@jupyter-widgets/controls",
            "children": [
              "IPY_MODEL_e47128eff64549d6bfc5259587aa98eb",
              "IPY_MODEL_450fc0dbec854fa9abe2fbc445100e52",
              "IPY_MODEL_5bcc923607794895bf4fd38296aa77c5"
            ]
          }
        },
        "a61ca28f0dc9439da8a38d957423bc76": {
          "model_module": "@jupyter-widgets/base",
          "model_name": "LayoutModel",
          "model_module_version": "1.2.0",
          "state": {
            "_view_name": "LayoutView",
            "grid_template_rows": null,
            "right": null,
            "justify_content": null,
            "_view_module": "@jupyter-widgets/base",
            "overflow": null,
            "_model_module_version": "1.2.0",
            "_view_count": null,
            "flex_flow": null,
            "width": null,
            "min_width": null,
            "border": null,
            "align_items": null,
            "bottom": null,
            "_model_module": "@jupyter-widgets/base",
            "top": null,
            "grid_column": null,
            "overflow_y": null,
            "overflow_x": null,
            "grid_auto_flow": null,
            "grid_area": null,
            "grid_template_columns": null,
            "flex": null,
            "_model_name": "LayoutModel",
            "justify_items": null,
            "grid_row": null,
            "max_height": null,
            "align_content": null,
            "visibility": null,
            "align_self": null,
            "height": null,
            "min_height": null,
            "padding": null,
            "grid_auto_rows": null,
            "grid_gap": null,
            "max_width": null,
            "order": null,
            "_view_module_version": "1.2.0",
            "grid_template_areas": null,
            "object_position": null,
            "object_fit": null,
            "grid_auto_columns": null,
            "margin": null,
            "display": null,
            "left": null
          }
        },
        "e47128eff64549d6bfc5259587aa98eb": {
          "model_module": "@jupyter-widgets/controls",
          "model_name": "HTMLModel",
          "model_module_version": "1.5.0",
          "state": {
            "_view_name": "HTMLView",
            "style": "IPY_MODEL_dcf19b495e834e2cbbd91783a4157c1c",
            "_dom_classes": [],
            "description": "",
            "_model_name": "HTMLModel",
            "placeholder": "​",
            "_view_module": "@jupyter-widgets/controls",
            "_model_module_version": "1.5.0",
            "value": "100%",
            "_view_count": null,
            "_view_module_version": "1.5.0",
            "description_tooltip": null,
            "_model_module": "@jupyter-widgets/controls",
            "layout": "IPY_MODEL_492f1d08e9f54770b056af2bae074375"
          }
        },
        "450fc0dbec854fa9abe2fbc445100e52": {
          "model_module": "@jupyter-widgets/controls",
          "model_name": "FloatProgressModel",
          "model_module_version": "1.5.0",
          "state": {
            "_view_name": "ProgressView",
            "style": "IPY_MODEL_2a7ac0d384ec441f932807f4e5b07fd4",
            "_dom_classes": [],
            "description": "",
            "_model_name": "FloatProgressModel",
            "bar_style": "success",
            "max": 102530333,
            "_view_module": "@jupyter-widgets/controls",
            "_model_module_version": "1.5.0",
            "value": 102530333,
            "_view_count": null,
            "_view_module_version": "1.5.0",
            "orientation": "horizontal",
            "min": 0,
            "description_tooltip": null,
            "_model_module": "@jupyter-widgets/controls",
            "layout": "IPY_MODEL_3873275436974cf3b8f48f5c7bb73a15"
          }
        },
        "5bcc923607794895bf4fd38296aa77c5": {
          "model_module": "@jupyter-widgets/controls",
          "model_name": "HTMLModel",
          "model_module_version": "1.5.0",
          "state": {
            "_view_name": "HTMLView",
            "style": "IPY_MODEL_031ddeb94466471f8ca0060e25f2f295",
            "_dom_classes": [],
            "description": "",
            "_model_name": "HTMLModel",
            "placeholder": "​",
            "_view_module": "@jupyter-widgets/controls",
            "_model_module_version": "1.5.0",
            "value": " 97.8M/97.8M [00:00&lt;00:00, 113MB/s]",
            "_view_count": null,
            "_view_module_version": "1.5.0",
            "description_tooltip": null,
            "_model_module": "@jupyter-widgets/controls",
            "layout": "IPY_MODEL_ced133da2e9f40b3a5f146200200851f"
          }
        },
        "dcf19b495e834e2cbbd91783a4157c1c": {
          "model_module": "@jupyter-widgets/controls",
          "model_name": "DescriptionStyleModel",
          "model_module_version": "1.5.0",
          "state": {
            "_view_name": "StyleView",
            "_model_name": "DescriptionStyleModel",
            "description_width": "",
            "_view_module": "@jupyter-widgets/base",
            "_model_module_version": "1.5.0",
            "_view_count": null,
            "_view_module_version": "1.2.0",
            "_model_module": "@jupyter-widgets/controls"
          }
        },
        "492f1d08e9f54770b056af2bae074375": {
          "model_module": "@jupyter-widgets/base",
          "model_name": "LayoutModel",
          "model_module_version": "1.2.0",
          "state": {
            "_view_name": "LayoutView",
            "grid_template_rows": null,
            "right": null,
            "justify_content": null,
            "_view_module": "@jupyter-widgets/base",
            "overflow": null,
            "_model_module_version": "1.2.0",
            "_view_count": null,
            "flex_flow": null,
            "width": null,
            "min_width": null,
            "border": null,
            "align_items": null,
            "bottom": null,
            "_model_module": "@jupyter-widgets/base",
            "top": null,
            "grid_column": null,
            "overflow_y": null,
            "overflow_x": null,
            "grid_auto_flow": null,
            "grid_area": null,
            "grid_template_columns": null,
            "flex": null,
            "_model_name": "LayoutModel",
            "justify_items": null,
            "grid_row": null,
            "max_height": null,
            "align_content": null,
            "visibility": null,
            "align_self": null,
            "height": null,
            "min_height": null,
            "padding": null,
            "grid_auto_rows": null,
            "grid_gap": null,
            "max_width": null,
            "order": null,
            "_view_module_version": "1.2.0",
            "grid_template_areas": null,
            "object_position": null,
            "object_fit": null,
            "grid_auto_columns": null,
            "margin": null,
            "display": null,
            "left": null
          }
        },
        "2a7ac0d384ec441f932807f4e5b07fd4": {
          "model_module": "@jupyter-widgets/controls",
          "model_name": "ProgressStyleModel",
          "model_module_version": "1.5.0",
          "state": {
            "_view_name": "StyleView",
            "_model_name": "ProgressStyleModel",
            "description_width": "",
            "_view_module": "@jupyter-widgets/base",
            "_model_module_version": "1.5.0",
            "_view_count": null,
            "_view_module_version": "1.2.0",
            "bar_color": null,
            "_model_module": "@jupyter-widgets/controls"
          }
        },
        "3873275436974cf3b8f48f5c7bb73a15": {
          "model_module": "@jupyter-widgets/base",
          "model_name": "LayoutModel",
          "model_module_version": "1.2.0",
          "state": {
            "_view_name": "LayoutView",
            "grid_template_rows": null,
            "right": null,
            "justify_content": null,
            "_view_module": "@jupyter-widgets/base",
            "overflow": null,
            "_model_module_version": "1.2.0",
            "_view_count": null,
            "flex_flow": null,
            "width": null,
            "min_width": null,
            "border": null,
            "align_items": null,
            "bottom": null,
            "_model_module": "@jupyter-widgets/base",
            "top": null,
            "grid_column": null,
            "overflow_y": null,
            "overflow_x": null,
            "grid_auto_flow": null,
            "grid_area": null,
            "grid_template_columns": null,
            "flex": null,
            "_model_name": "LayoutModel",
            "justify_items": null,
            "grid_row": null,
            "max_height": null,
            "align_content": null,
            "visibility": null,
            "align_self": null,
            "height": null,
            "min_height": null,
            "padding": null,
            "grid_auto_rows": null,
            "grid_gap": null,
            "max_width": null,
            "order": null,
            "_view_module_version": "1.2.0",
            "grid_template_areas": null,
            "object_position": null,
            "object_fit": null,
            "grid_auto_columns": null,
            "margin": null,
            "display": null,
            "left": null
          }
        },
        "031ddeb94466471f8ca0060e25f2f295": {
          "model_module": "@jupyter-widgets/controls",
          "model_name": "DescriptionStyleModel",
          "model_module_version": "1.5.0",
          "state": {
            "_view_name": "StyleView",
            "_model_name": "DescriptionStyleModel",
            "description_width": "",
            "_view_module": "@jupyter-widgets/base",
            "_model_module_version": "1.5.0",
            "_view_count": null,
            "_view_module_version": "1.2.0",
            "_model_module": "@jupyter-widgets/controls"
          }
        },
        "ced133da2e9f40b3a5f146200200851f": {
          "model_module": "@jupyter-widgets/base",
          "model_name": "LayoutModel",
          "model_module_version": "1.2.0",
          "state": {
            "_view_name": "LayoutView",
            "grid_template_rows": null,
            "right": null,
            "justify_content": null,
            "_view_module": "@jupyter-widgets/base",
            "overflow": null,
            "_model_module_version": "1.2.0",
            "_view_count": null,
            "flex_flow": null,
            "width": null,
            "min_width": null,
            "border": null,
            "align_items": null,
            "bottom": null,
            "_model_module": "@jupyter-widgets/base",
            "top": null,
            "grid_column": null,
            "overflow_y": null,
            "overflow_x": null,
            "grid_auto_flow": null,
            "grid_area": null,
            "grid_template_columns": null,
            "flex": null,
            "_model_name": "LayoutModel",
            "justify_items": null,
            "grid_row": null,
            "max_height": null,
            "align_content": null,
            "visibility": null,
            "align_self": null,
            "height": null,
            "min_height": null,
            "padding": null,
            "grid_auto_rows": null,
            "grid_gap": null,
            "max_width": null,
            "order": null,
            "_view_module_version": "1.2.0",
            "grid_template_areas": null,
            "object_position": null,
            "object_fit": null,
            "grid_auto_columns": null,
            "margin": null,
            "display": null,
            "left": null
          }
        }
      }
    }
  },
  "cells": [
    {
      "cell_type": "code",
      "metadata": {
        "colab": {
          "base_uri": "https://localhost:8080/"
        },
        "id": "Rx8lLw60T7c9",
        "outputId": "3b03db39-1d17-4abf-875d-56b43a92442a"
      },
      "source": [
        "gpu_info = !nvidia-smi\n",
        "gpu_info = '\\n'.join(gpu_info)\n",
        "if gpu_info.find('failed') >= 0:\n",
        "  print('Select the Runtime > \"Change runtime type\" menu to enable a GPU accelerator, ')\n",
        "  print('and then re-execute this cell.')\n",
        "else:\n",
        "  print(gpu_info)"
      ],
      "execution_count": 1,
      "outputs": [
        {
          "output_type": "stream",
          "text": [
            "Sun Aug 22 15:23:55 2021       \n",
            "+-----------------------------------------------------------------------------+\n",
            "| NVIDIA-SMI 470.57.02    Driver Version: 460.32.03    CUDA Version: 11.2     |\n",
            "|-------------------------------+----------------------+----------------------+\n",
            "| GPU  Name        Persistence-M| Bus-Id        Disp.A | Volatile Uncorr. ECC |\n",
            "| Fan  Temp  Perf  Pwr:Usage/Cap|         Memory-Usage | GPU-Util  Compute M. |\n",
            "|                               |                      |               MIG M. |\n",
            "|===============================+======================+======================|\n",
            "|   0  Tesla K80           Off  | 00000000:00:04.0 Off |                    0 |\n",
            "| N/A   71C    P8    34W / 149W |      0MiB / 11441MiB |      0%      Default |\n",
            "|                               |                      |                  N/A |\n",
            "+-------------------------------+----------------------+----------------------+\n",
            "                                                                               \n",
            "+-----------------------------------------------------------------------------+\n",
            "| Processes:                                                                  |\n",
            "|  GPU   GI   CI        PID   Type   Process name                  GPU Memory |\n",
            "|        ID   ID                                                   Usage      |\n",
            "|=============================================================================|\n",
            "|  No running processes found                                                 |\n",
            "+-----------------------------------------------------------------------------+\n"
          ],
          "name": "stdout"
        }
      ]
    },
    {
      "cell_type": "code",
      "metadata": {
        "colab": {
          "base_uri": "https://localhost:8080/"
        },
        "id": "QzAC67jyUDgH",
        "outputId": "ac3353e9-facb-4e9f-e29a-3661661a734d"
      },
      "source": [
        "from psutil import virtual_memory\n",
        "ram_gb = virtual_memory().total / 1e9\n",
        "print('Your runtime has {:.1f} gigabytes of available RAM\\n'.format(ram_gb))\n",
        "\n",
        "if ram_gb < 20:\n",
        "  print('To enable a high-RAM runtime, select the Runtime > \"Change runtime type\"')\n",
        "  print('menu, and then select High-RAM in the Runtime shape dropdown. Then, ')\n",
        "  print('re-execute this cell.')\n",
        "else:\n",
        "  print('You are using a high-RAM runtime!')"
      ],
      "execution_count": 2,
      "outputs": [
        {
          "output_type": "stream",
          "text": [
            "Your runtime has 13.6 gigabytes of available RAM\n",
            "\n",
            "To enable a high-RAM runtime, select the Runtime > \"Change runtime type\"\n",
            "menu, and then select High-RAM in the Runtime shape dropdown. Then, \n",
            "re-execute this cell.\n"
          ],
          "name": "stdout"
        }
      ]
    },
    {
      "cell_type": "markdown",
      "metadata": {
        "id": "eyYSoiHYUYme"
      },
      "source": [
        "####라이브러리"
      ]
    },
    {
      "cell_type": "code",
      "metadata": {
        "id": "ggL_6wnsUMcS"
      },
      "source": [
        "import torch, torchvision\n",
        "from torchvision import datasets, models, transforms\n",
        "import torch.nn as nn\n",
        "import torch.nn.functional as F\n",
        "import torch.optim as optim\n",
        "from torch.utils.data import DataLoader\n",
        "import time\n",
        "\n",
        "import numpy as np\n",
        "import matplotlib.pyplot as plt\n",
        "import os\n",
        "\n",
        "from PIL import Image"
      ],
      "execution_count": 3,
      "outputs": []
    },
    {
      "cell_type": "code",
      "metadata": {
        "id": "wz3e6J7ZzIRW"
      },
      "source": [
        "# Device configuration\n",
        "device = torch.device('cuda' if torch.cuda.is_available() else 'cpu')\n",
        "\n",
        "batch_size = 10\n",
        "learning_rate = 0.001\n",
        "num_epochs = 50"
      ],
      "execution_count": 4,
      "outputs": []
    },
    {
      "cell_type": "code",
      "metadata": {
        "id": "PztGnm7M1JL6"
      },
      "source": [
        "torch.cuda.empty_cache()"
      ],
      "execution_count": 5,
      "outputs": []
    },
    {
      "cell_type": "markdown",
      "metadata": {
        "id": "YB0RK2mlWHkT"
      },
      "source": [
        "1. 데이터 정의"
      ]
    },
    {
      "cell_type": "markdown",
      "metadata": {
        "id": "4LVJ5GRpWLBb"
      },
      "source": [
        "#### A. Datasets and Preprocessing"
      ]
    },
    {
      "cell_type": "code",
      "metadata": {
        "id": "VUXw_uKUWA6M"
      },
      "source": [
        "#image transformation\n",
        "image_transforms = {\n",
        "    'train': transforms.Compose([\n",
        "        transforms.ToTensor(),\n",
        "        transforms.Resize((132, 132)),\n",
        "        transforms.Normalize([0.485, 0.456, 0.406],\n",
        "                             [0.229, 0.224, 0.225])                 \n",
        "    ]),\n",
        "    'test': transforms.Compose([\n",
        "        transforms.ToTensor(),\n",
        "        transforms.Resize((132, 132)),\n",
        "        transforms.Normalize([0.485, 0.456, 0.406],\n",
        "                             [0.229, 0.224, 0.225])\n",
        "    ])\n",
        "}"
      ],
      "execution_count": 6,
      "outputs": []
    },
    {
      "cell_type": "markdown",
      "metadata": {
        "id": "ah6C1oO-aALJ"
      },
      "source": [
        "####B. DataLoader"
      ]
    },
    {
      "cell_type": "code",
      "metadata": {
        "colab": {
          "base_uri": "https://localhost:8080/",
          "height": 35
        },
        "id": "V6GHEnyNZsuZ",
        "outputId": "153c5a69-c22b-4d04-f954-b3af470c8525"
      },
      "source": [
        "os.getcwd()"
      ],
      "execution_count": 7,
      "outputs": [
        {
          "output_type": "execute_result",
          "data": {
            "application/vnd.google.colaboratory.intrinsic+json": {
              "type": "string"
            },
            "text/plain": [
              "'/content'"
            ]
          },
          "metadata": {},
          "execution_count": 7
        }
      ]
    },
    {
      "cell_type": "code",
      "metadata": {
        "colab": {
          "base_uri": "https://localhost:8080/"
        },
        "id": "IS5sfCR2Z_RI",
        "outputId": "8b76e8fa-85be-4af1-b09f-48cb342198f3"
      },
      "source": [
        "from google.colab import drive\n",
        "drive.mount('/content/gdrive')"
      ],
      "execution_count": 8,
      "outputs": [
        {
          "output_type": "stream",
          "text": [
            "Mounted at /content/gdrive\n"
          ],
          "name": "stdout"
        }
      ]
    },
    {
      "cell_type": "code",
      "metadata": {
        "colab": {
          "base_uri": "https://localhost:8080/"
        },
        "id": "f12thQWRaHdU",
        "outputId": "55eb8926-c26a-4fe7-b46a-7e55ee4a1a98"
      },
      "source": [
        "#The Path in which the data exists\n",
        "os.listdir('./gdrive/MyDrive/ColabNotebooks/data/')"
      ],
      "execution_count": 9,
      "outputs": [
        {
          "output_type": "execute_result",
          "data": {
            "text/plain": [
              "['tumor']"
            ]
          },
          "metadata": {},
          "execution_count": 9
        }
      ]
    },
    {
      "cell_type": "code",
      "metadata": {
        "colab": {
          "base_uri": "https://localhost:8080/"
        },
        "id": "311OA_E9a2TE",
        "outputId": "6e05a7a5-815f-4848-f202-075e6f365a5e"
      },
      "source": [
        "dataset = 'tumor'\n",
        "\n",
        "train_directory = './gdrive/MyDrive/ColabNotebooks/data/tumor/Training'\n",
        "\n",
        "test_directory = './gdrive/MyDrive/ColabNotebooks/data/tumor/Testing'\n",
        "\n",
        "#batch size\n",
        "batch_size = 32\n",
        "\n",
        "#Number of classes\n",
        "num_classes = len(os.listdir(train_directory))\n",
        "print(num_classes)\n",
        "\n",
        "data = {\n",
        "    'train': datasets.ImageFolder(root = train_directory, transform = image_transforms['train']),\n",
        "    'test': datasets.ImageFolder(root = test_directory, transform = image_transforms['test'])\n",
        "}\n",
        "#Mapping of the indices to the class names, in order to see the output classes of the test dataset images.\n",
        "idx_to_class = {v: x for x, v in data['train'].class_to_idx.items()}\n",
        "print(idx_to_class)\n",
        "\n",
        "#Size of each datasets.\n",
        "train_data_size = len(data['train'])\n",
        "test_data_size = len(data['test'])"
      ],
      "execution_count": 10,
      "outputs": [
        {
          "output_type": "stream",
          "text": [
            "4\n",
            "{0: 'glioma_tumor', 1: 'meningioma_tumor', 2: 'no_tumor', 3: 'pituitary_tumor'}\n"
          ],
          "name": "stdout"
        }
      ]
    },
    {
      "cell_type": "code",
      "metadata": {
        "colab": {
          "base_uri": "https://localhost:8080/"
        },
        "id": "wLdehGOcbsh_",
        "outputId": "f33c8d58-7e2c-476c-c7bf-a1e284dd3e7f"
      },
      "source": [
        "#The Size for each class in the train dataset\n",
        "print(len(os.listdir(train_directory + '/glioma_tumor')))\n",
        "print(len(os.listdir(train_directory + '/meningioma_tumor')))\n",
        "print(len(os.listdir(train_directory + '/no_tumor')))\n",
        "print(len(os.listdir(train_directory + '/pituitary_tumor')))"
      ],
      "execution_count": 11,
      "outputs": [
        {
          "output_type": "stream",
          "text": [
            "826\n",
            "822\n",
            "395\n",
            "827\n"
          ],
          "name": "stdout"
        }
      ]
    },
    {
      "cell_type": "code",
      "metadata": {
        "colab": {
          "base_uri": "https://localhost:8080/",
          "height": 190
        },
        "id": "4OXG5d86fgP5",
        "outputId": "d4565c35-5b2a-4411-f336-4cda93b4008f"
      },
      "source": [
        "train_data_loader = DataLoader(data['train'], batch_size = batch_size, shuffle = True)\n",
        "test_data_loader = DataLoader(data['test'], batch_size = batch_size, shuffle = False)\n",
        "\n",
        "def showimage(img):\n",
        "  img = img / 2 + 0.5\n",
        "  numpy_image = img.numpy()\n",
        "  plt.imshow(np.transpose(numpy_image, (1, 2, 0)))\n",
        "\n",
        "trainloader_1 = DataLoader(data['train'], batch_size = 4, shuffle =True)\n",
        "dataiter = iter(trainloader_1)\n",
        "images, labels = dataiter.next()\n",
        "\n",
        "showimage(torchvision.utils.make_grid(images))\n",
        "print(' '.join('%5s' % list(idx_to_class.values())[labels[j]] for j in range(4)))"
      ],
      "execution_count": 12,
      "outputs": [
        {
          "output_type": "stream",
          "text": [
            "Clipping input data to the valid range for imshow with RGB data ([0..1] for floats or [0..255] for integers).\n"
          ],
          "name": "stderr"
        },
        {
          "output_type": "stream",
          "text": [
            "meningioma_tumor no_tumor pituitary_tumor glioma_tumor\n"
          ],
          "name": "stdout"
        },
        {
          "output_type": "display_data",
          "data": {
            "image/png": "[encoded data removed]",
            "text/plain": [
              "<Figure size 432x288 with 1 Axes>"
            ]
          },
          "metadata": {
            "needs_background": "light"
          }
        }
      ]
    },
    {
      "cell_type": "code",
      "metadata": {
        "id": "6ASmrGnphjdx"
      },
      "source": [
        "del trainloader_1"
      ],
      "execution_count": 13,
      "outputs": []
    },
    {
      "cell_type": "code",
      "metadata": {
        "colab": {
          "base_uri": "https://localhost:8080/"
        },
        "id": "2l2sJh7niHXp",
        "outputId": "150534b6-0171-45c6-cdeb-1b9d5c9b6205"
      },
      "source": [
        "#checking the size of the datasets\n",
        "train_data_size, test_data_size"
      ],
      "execution_count": 14,
      "outputs": [
        {
          "output_type": "execute_result",
          "data": {
            "text/plain": [
              "(2870, 394)"
            ]
          },
          "metadata": {},
          "execution_count": 14
        }
      ]
    },
    {
      "cell_type": "markdown",
      "metadata": {
        "id": "zEsgMIUliodn"
      },
      "source": [
        "# **2. 모델**"
      ]
    },
    {
      "cell_type": "markdown",
      "metadata": {
        "id": "onl_aurZidKc"
      },
      "source": [
        "####My Model implementation take"
      ]
    },
    {
      "cell_type": "code",
      "metadata": {
        "colab": {
          "base_uri": "https://localhost:8080/",
          "height": 1000,
          "referenced_widgets": [
            "a0edb0713fb14cc3a36677139410b6c5",
            "a61ca28f0dc9439da8a38d957423bc76",
            "e47128eff64549d6bfc5259587aa98eb",
            "450fc0dbec854fa9abe2fbc445100e52",
            "5bcc923607794895bf4fd38296aa77c5",
            "dcf19b495e834e2cbbd91783a4157c1c",
            "492f1d08e9f54770b056af2bae074375",
            "2a7ac0d384ec441f932807f4e5b07fd4",
            "3873275436974cf3b8f48f5c7bb73a15",
            "031ddeb94466471f8ca0060e25f2f295",
            "ced133da2e9f40b3a5f146200200851f"
          ]
        },
        "id": "D4Ja8e7liNQI",
        "outputId": "cd868da2-4296-4299-c7b1-feab4b917d8e"
      },
      "source": [
        "resnet_model = models.resnet50(pretrained=True)\n",
        "for param in resnet_model.parameters():\n",
        "  param.requires_grad = True\n",
        "\n",
        "#get the input of the fully connected layer\n",
        "n_inputs = resnet_model.fc.in_features\n",
        "\n",
        "resnet_model.fc = nn.Sequential(nn.Linear(n_inputs, 64),\n",
        "                                nn.ReLU(),\n",
        "                                nn.Dropout(p=0.5),\n",
        "                                nn.Linear(64, 64),\n",
        "                                nn.ReLU(),\n",
        "                                nn.Dropout(p=0.5),\n",
        "                                nn.Linear(64, num_classes),\n",
        "                                nn.LogSoftmax(dim=1))\n",
        "\n",
        "for name, child in resnet_model.named_children():\n",
        "  for name2, params in child.named_parameters():\n",
        "    params.requires_grad = True\n",
        "\n",
        "resnet_model.to(device)\n",
        "\n",
        "resnet_model"
      ],
      "execution_count": 15,
      "outputs": [
        {
          "output_type": "stream",
          "text": [
            "Downloading: \"https://download.pytorch.org/models/resnet50-0676ba61.pth\" to /root/.cache/torch/hub/checkpoints/resnet50-0676ba61.pth\n"
          ],
          "name": "stderr"
        },
        {
          "output_type": "display_data",
          "data": {
            "application/vnd.jupyter.widget-view+json": {
              "model_id": "a0edb0713fb14cc3a36677139410b6c5",
              "version_minor": 0,
              "version_major": 2
            },
            "text/plain": [
              "  0%|          | 0.00/97.8M [00:00<?, ?B/s]"
            ]
          },
          "metadata": {}
        },
        {
          "output_type": "execute_result",
          "data": {
            "text/plain": [
              "ResNet(\n",
              "  (conv1): Conv2d(3, 64, kernel_size=(7, 7), stride=(2, 2), padding=(3, 3), bias=False)\n",
              "  (bn1): BatchNorm2d(64, eps=1e-05, momentum=0.1, affine=True, track_running_stats=True)\n",
              "  (relu): ReLU(inplace=True)\n",
              "  (maxpool): MaxPool2d(kernel_size=3, stride=2, padding=1, dilation=1, ceil_mode=False)\n",
              "  (layer1): Sequential(\n",
              "    (0): Bottleneck(\n",
              "      (conv1): Conv2d(64, 64, kernel_size=(1, 1), stride=(1, 1), bias=False)\n",
              "      (bn1): BatchNorm2d(64, eps=1e-05, momentum=0.1, affine=True, track_running_stats=True)\n",
              "      (conv2): Conv2d(64, 64, kernel_size=(3, 3), stride=(1, 1), padding=(1, 1), bias=False)\n",
              "      (bn2): BatchNorm2d(64, eps=1e-05, momentum=0.1, affine=True, track_running_stats=True)\n",
              "      (conv3): Conv2d(64, 256, kernel_size=(1, 1), stride=(1, 1), bias=False)\n",
              "      (bn3): BatchNorm2d(256, eps=1e-05, momentum=0.1, affine=True, track_running_stats=True)\n",
              "      (relu): ReLU(inplace=True)\n",
              "      (downsample): Sequential(\n",
              "        (0): Conv2d(64, 256, kernel_size=(1, 1), stride=(1, 1), bias=False)\n",
              "        (1): BatchNorm2d(256, eps=1e-05, momentum=0.1, affine=True, track_running_stats=True)\n",
              "      )\n",
              "    )\n",
              "    (1): Bottleneck(\n",
              "      (conv1): Conv2d(256, 64, kernel_size=(1, 1), stride=(1, 1), bias=False)\n",
              "      (bn1): BatchNorm2d(64, eps=1e-05, momentum=0.1, affine=True, track_running_stats=True)\n",
              "      (conv2): Conv2d(64, 64, kernel_size=(3, 3), stride=(1, 1), padding=(1, 1), bias=False)\n",
              "      (bn2): BatchNorm2d(64, eps=1e-05, momentum=0.1, affine=True, track_running_stats=True)\n",
              "      (conv3): Conv2d(64, 256, kernel_size=(1, 1), stride=(1, 1), bias=False)\n",
              "      (bn3): BatchNorm2d(256, eps=1e-05, momentum=0.1, affine=True, track_running_stats=True)\n",
              "      (relu): ReLU(inplace=True)\n",
              "    )\n",
              "    (2): Bottleneck(\n",
              "      (conv1): Conv2d(256, 64, kernel_size=(1, 1), stride=(1, 1), bias=False)\n",
              "      (bn1): BatchNorm2d(64, eps=1e-05, momentum=0.1, affine=True, track_running_stats=True)\n",
              "      (conv2): Conv2d(64, 64, kernel_size=(3, 3), stride=(1, 1), padding=(1, 1), bias=False)\n",
              "      (bn2): BatchNorm2d(64, eps=1e-05, momentum=0.1, affine=True, track_running_stats=True)\n",
              "      (conv3): Conv2d(64, 256, kernel_size=(1, 1), stride=(1, 1), bias=False)\n",
              "      (bn3): BatchNorm2d(256, eps=1e-05, momentum=0.1, affine=True, track_running_stats=True)\n",
              "      (relu): ReLU(inplace=True)\n",
              "    )\n",
              "  )\n",
              "  (layer2): Sequential(\n",
              "    (0): Bottleneck(\n",
              "      (conv1): Conv2d(256, 128, kernel_size=(1, 1), stride=(1, 1), bias=False)\n",
              "      (bn1): BatchNorm2d(128, eps=1e-05, momentum=0.1, affine=True, track_running_stats=True)\n",
              "      (conv2): Conv2d(128, 128, kernel_size=(3, 3), stride=(2, 2), padding=(1, 1), bias=False)\n",
              "      (bn2): BatchNorm2d(128, eps=1e-05, momentum=0.1, affine=True, track_running_stats=True)\n",
              "      (conv3): Conv2d(128, 512, kernel_size=(1, 1), stride=(1, 1), bias=False)\n",
              "      (bn3): BatchNorm2d(512, eps=1e-05, momentum=0.1, affine=True, track_running_stats=True)\n",
              "      (relu): ReLU(inplace=True)\n",
              "      (downsample): Sequential(\n",
              "        (0): Conv2d(256, 512, kernel_size=(1, 1), stride=(2, 2), bias=False)\n",
              "        (1): BatchNorm2d(512, eps=1e-05, momentum=0.1, affine=True, track_running_stats=True)\n",
              "      )\n",
              "    )\n",
              "    (1): Bottleneck(\n",
              "      (conv1): Conv2d(512, 128, kernel_size=(1, 1), stride=(1, 1), bias=False)\n",
              "      (bn1): BatchNorm2d(128, eps=1e-05, momentum=0.1, affine=True, track_running_stats=True)\n",
              "      (conv2): Conv2d(128, 128, kernel_size=(3, 3), stride=(1, 1), padding=(1, 1), bias=False)\n",
              "      (bn2): BatchNorm2d(128, eps=1e-05, momentum=0.1, affine=True, track_running_stats=True)\n",
              "      (conv3): Conv2d(128, 512, kernel_size=(1, 1), stride=(1, 1), bias=False)\n",
              "      (bn3): BatchNorm2d(512, eps=1e-05, momentum=0.1, affine=True, track_running_stats=True)\n",
              "      (relu): ReLU(inplace=True)\n",
              "    )\n",
              "    (2): Bottleneck(\n",
              "      (conv1): Conv2d(512, 128, kernel_size=(1, 1), stride=(1, 1), bias=False)\n",
              "      (bn1): BatchNorm2d(128, eps=1e-05, momentum=0.1, affine=True, track_running_stats=True)\n",
              "      (conv2): Conv2d(128, 128, kernel_size=(3, 3), stride=(1, 1), padding=(1, 1), bias=False)\n",
              "      (bn2): BatchNorm2d(128, eps=1e-05, momentum=0.1, affine=True, track_running_stats=True)\n",
              "      (conv3): Conv2d(128, 512, kernel_size=(1, 1), stride=(1, 1), bias=False)\n",
              "      (bn3): BatchNorm2d(512, eps=1e-05, momentum=0.1, affine=True, track_running_stats=True)\n",
              "      (relu): ReLU(inplace=True)\n",
              "    )\n",
              "    (3): Bottleneck(\n",
              "      (conv1): Conv2d(512, 128, kernel_size=(1, 1), stride=(1, 1), bias=False)\n",
              "      (bn1): BatchNorm2d(128, eps=1e-05, momentum=0.1, affine=True, track_running_stats=True)\n",
              "      (conv2): Conv2d(128, 128, kernel_size=(3, 3), stride=(1, 1), padding=(1, 1), bias=False)\n",
              "      (bn2): BatchNorm2d(128, eps=1e-05, momentum=0.1, affine=True, track_running_stats=True)\n",
              "      (conv3): Conv2d(128, 512, kernel_size=(1, 1), stride=(1, 1), bias=False)\n",
              "      (bn3): BatchNorm2d(512, eps=1e-05, momentum=0.1, affine=True, track_running_stats=True)\n",
              "      (relu): ReLU(inplace=True)\n",
              "    )\n",
              "  )\n",
              "  (layer3): Sequential(\n",
              "    (0): Bottleneck(\n",
              "      (conv1): Conv2d(512, 256, kernel_size=(1, 1), stride=(1, 1), bias=False)\n",
              "      (bn1): BatchNorm2d(256, eps=1e-05, momentum=0.1, affine=True, track_running_stats=True)\n",
              "      (conv2): Conv2d(256, 256, kernel_size=(3, 3), stride=(2, 2), padding=(1, 1), bias=False)\n",
              "      (bn2): BatchNorm2d(256, eps=1e-05, momentum=0.1, affine=True, track_running_stats=True)\n",
              "      (conv3): Conv2d(256, 1024, kernel_size=(1, 1), stride=(1, 1), bias=False)\n",
              "      (bn3): BatchNorm2d(1024, eps=1e-05, momentum=0.1, affine=True, track_running_stats=True)\n",
              "      (relu): ReLU(inplace=True)\n",
              "      (downsample): Sequential(\n",
              "        (0): Conv2d(512, 1024, kernel_size=(1, 1), stride=(2, 2), bias=False)\n",
              "        (1): BatchNorm2d(1024, eps=1e-05, momentum=0.1, affine=True, track_running_stats=True)\n",
              "      )\n",
              "    )\n",
              "    (1): Bottleneck(\n",
              "      (conv1): Conv2d(1024, 256, kernel_size=(1, 1), stride=(1, 1), bias=False)\n",
              "      (bn1): BatchNorm2d(256, eps=1e-05, momentum=0.1, affine=True, track_running_stats=True)\n",
              "      (conv2): Conv2d(256, 256, kernel_size=(3, 3), stride=(1, 1), padding=(1, 1), bias=False)\n",
              "      (bn2): BatchNorm2d(256, eps=1e-05, momentum=0.1, affine=True, track_running_stats=True)\n",
              "      (conv3): Conv2d(256, 1024, kernel_size=(1, 1), stride=(1, 1), bias=False)\n",
              "      (bn3): BatchNorm2d(1024, eps=1e-05, momentum=0.1, affine=True, track_running_stats=True)\n",
              "      (relu): ReLU(inplace=True)\n",
              "    )\n",
              "    (2): Bottleneck(\n",
              "      (conv1): Conv2d(1024, 256, kernel_size=(1, 1), stride=(1, 1), bias=False)\n",
              "      (bn1): BatchNorm2d(256, eps=1e-05, momentum=0.1, affine=True, track_running_stats=True)\n",
              "      (conv2): Conv2d(256, 256, kernel_size=(3, 3), stride=(1, 1), padding=(1, 1), bias=False)\n",
              "      (bn2): BatchNorm2d(256, eps=1e-05, momentum=0.1, affine=True, track_running_stats=True)\n",
              "      (conv3): Conv2d(256, 1024, kernel_size=(1, 1), stride=(1, 1), bias=False)\n",
              "      (bn3): BatchNorm2d(1024, eps=1e-05, momentum=0.1, affine=True, track_running_stats=True)\n",
              "      (relu): ReLU(inplace=True)\n",
              "    )\n",
              "    (3): Bottleneck(\n",
              "      (conv1): Conv2d(1024, 256, kernel_size=(1, 1), stride=(1, 1), bias=False)\n",
              "      (bn1): BatchNorm2d(256, eps=1e-05, momentum=0.1, affine=True, track_running_stats=True)\n",
              "      (conv2): Conv2d(256, 256, kernel_size=(3, 3), stride=(1, 1), padding=(1, 1), bias=False)\n",
              "      (bn2): BatchNorm2d(256, eps=1e-05, momentum=0.1, affine=True, track_running_stats=True)\n",
              "      (conv3): Conv2d(256, 1024, kernel_size=(1, 1), stride=(1, 1), bias=False)\n",
              "      (bn3): BatchNorm2d(1024, eps=1e-05, momentum=0.1, affine=True, track_running_stats=True)\n",
              "      (relu): ReLU(inplace=True)\n",
              "    )\n",
              "    (4): Bottleneck(\n",
              "      (conv1): Conv2d(1024, 256, kernel_size=(1, 1), stride=(1, 1), bias=False)\n",
              "      (bn1): BatchNorm2d(256, eps=1e-05, momentum=0.1, affine=True, track_running_stats=True)\n",
              "      (conv2): Conv2d(256, 256, kernel_size=(3, 3), stride=(1, 1), padding=(1, 1), bias=False)\n",
              "      (bn2): BatchNorm2d(256, eps=1e-05, momentum=0.1, affine=True, track_running_stats=True)\n",
              "      (conv3): Conv2d(256, 1024, kernel_size=(1, 1), stride=(1, 1), bias=False)\n",
              "      (bn3): BatchNorm2d(1024, eps=1e-05, momentum=0.1, affine=True, track_running_stats=True)\n",
              "      (relu): ReLU(inplace=True)\n",
              "    )\n",
              "    (5): Bottleneck(\n",
              "      (conv1): Conv2d(1024, 256, kernel_size=(1, 1), stride=(1, 1), bias=False)\n",
              "      (bn1): BatchNorm2d(256, eps=1e-05, momentum=0.1, affine=True, track_running_stats=True)\n",
              "      (conv2): Conv2d(256, 256, kernel_size=(3, 3), stride=(1, 1), padding=(1, 1), bias=False)\n",
              "      (bn2): BatchNorm2d(256, eps=1e-05, momentum=0.1, affine=True, track_running_stats=True)\n",
              "      (conv3): Conv2d(256, 1024, kernel_size=(1, 1), stride=(1, 1), bias=False)\n",
              "      (bn3): BatchNorm2d(1024, eps=1e-05, momentum=0.1, affine=True, track_running_stats=True)\n",
              "      (relu): ReLU(inplace=True)\n",
              "    )\n",
              "  )\n",
              "  (layer4): Sequential(\n",
              "    (0): Bottleneck(\n",
              "      (conv1): Conv2d(1024, 512, kernel_size=(1, 1), stride=(1, 1), bias=False)\n",
              "      (bn1): BatchNorm2d(512, eps=1e-05, momentum=0.1, affine=True, track_running_stats=True)\n",
              "      (conv2): Conv2d(512, 512, kernel_size=(3, 3), stride=(2, 2), padding=(1, 1), bias=False)\n",
              "      (bn2): BatchNorm2d(512, eps=1e-05, momentum=0.1, affine=True, track_running_stats=True)\n",
              "      (conv3): Conv2d(512, 2048, kernel_size=(1, 1), stride=(1, 1), bias=False)\n",
              "      (bn3): BatchNorm2d(2048, eps=1e-05, momentum=0.1, affine=True, track_running_stats=True)\n",
              "      (relu): ReLU(inplace=True)\n",
              "      (downsample): Sequential(\n",
              "        (0): Conv2d(1024, 2048, kernel_size=(1, 1), stride=(2, 2), bias=False)\n",
              "        (1): BatchNorm2d(2048, eps=1e-05, momentum=0.1, affine=True, track_running_stats=True)\n",
              "      )\n",
              "    )\n",
              "    (1): Bottleneck(\n",
              "      (conv1): Conv2d(2048, 512, kernel_size=(1, 1), stride=(1, 1), bias=False)\n",
              "      (bn1): BatchNorm2d(512, eps=1e-05, momentum=0.1, affine=True, track_running_stats=True)\n",
              "      (conv2): Conv2d(512, 512, kernel_size=(3, 3), stride=(1, 1), padding=(1, 1), bias=False)\n",
              "      (bn2): BatchNorm2d(512, eps=1e-05, momentum=0.1, affine=True, track_running_stats=True)\n",
              "      (conv3): Conv2d(512, 2048, kernel_size=(1, 1), stride=(1, 1), bias=False)\n",
              "      (bn3): BatchNorm2d(2048, eps=1e-05, momentum=0.1, affine=True, track_running_stats=True)\n",
              "      (relu): ReLU(inplace=True)\n",
              "    )\n",
              "    (2): Bottleneck(\n",
              "      (conv1): Conv2d(2048, 512, kernel_size=(1, 1), stride=(1, 1), bias=False)\n",
              "      (bn1): BatchNorm2d(512, eps=1e-05, momentum=0.1, affine=True, track_running_stats=True)\n",
              "      (conv2): Conv2d(512, 512, kernel_size=(3, 3), stride=(1, 1), padding=(1, 1), bias=False)\n",
              "      (bn2): BatchNorm2d(512, eps=1e-05, momentum=0.1, affine=True, track_running_stats=True)\n",
              "      (conv3): Conv2d(512, 2048, kernel_size=(1, 1), stride=(1, 1), bias=False)\n",
              "      (bn3): BatchNorm2d(2048, eps=1e-05, momentum=0.1, affine=True, track_running_stats=True)\n",
              "      (relu): ReLU(inplace=True)\n",
              "    )\n",
              "  )\n",
              "  (avgpool): AdaptiveAvgPool2d(output_size=(1, 1))\n",
              "  (fc): Sequential(\n",
              "    (0): Linear(in_features=2048, out_features=64, bias=True)\n",
              "    (1): ReLU()\n",
              "    (2): Dropout(p=0.5, inplace=False)\n",
              "    (3): Linear(in_features=64, out_features=64, bias=True)\n",
              "    (4): ReLU()\n",
              "    (5): Dropout(p=0.5, inplace=False)\n",
              "    (6): Linear(in_features=64, out_features=4, bias=True)\n",
              "    (7): LogSoftmax(dim=1)\n",
              "  )\n",
              ")"
            ]
          },
          "metadata": {},
          "execution_count": 15
        }
      ]
    },
    {
      "cell_type": "code",
      "metadata": {
        "id": "9vKmISaRzSoy"
      },
      "source": [
        "#Intialize Criterion and Optimizer\n",
        "criterion = nn.CrossEntropyLoss().to(device)\n",
        "optimizer = torch.optim.Adam(resnet_model.parameters(), lr=0.001)"
      ],
      "execution_count": 16,
      "outputs": []
    },
    {
      "cell_type": "code",
      "metadata": {
        "colab": {
          "base_uri": "https://localhost:8080/"
        },
        "id": "zZBefx3Zz7Nx",
        "outputId": "9349a49b-ee2e-4a1c-8c92-c8346d289c1c"
      },
      "source": [
        "iter(train_data_loader).__next__()"
      ],
      "execution_count": 17,
      "outputs": [
        {
          "output_type": "execute_result",
          "data": {
            "text/plain": [
              "[tensor([[[[-2.1179, -2.1179, -2.1179,  ..., -2.0837, -2.1008, -2.1008],\n",
              "           [-2.1179, -2.1179, -2.1179,  ..., -2.0837, -2.1008, -2.1008],\n",
              "           [-2.1179, -2.1179, -2.1179,  ..., -2.0494, -2.0665, -2.1008],\n",
              "           ...,\n",
              "           [-2.1008, -2.1008, -2.1008,  ..., -2.0440, -2.0440, -2.0665],\n",
              "           [-2.1179, -2.1179, -2.1179,  ..., -1.9124, -2.0494, -2.0545],\n",
              "           [-2.1179, -2.1179, -2.1179,  ..., -1.8945, -2.0611, -2.1008]],\n",
              " \n",
              "          [[-2.0357, -2.0357, -2.0357,  ..., -2.0007, -2.0182, -2.0182],\n",
              "           [-2.0357, -2.0357, -2.0357,  ..., -2.0007, -2.0182, -2.0182],\n",
              "           [-2.0357, -2.0357, -2.0357,  ..., -1.9657, -1.9832, -2.0182],\n",
              "           ...,\n",
              "           [-2.0182, -2.0182, -2.0182,  ..., -1.9601, -1.9601, -1.9832],\n",
              "           [-2.0357, -2.0357, -2.0357,  ..., -1.8257, -1.9657, -1.9709],\n",
              "           [-2.0357, -2.0357, -2.0357,  ..., -1.8073, -1.9776, -2.0182]],\n",
              " \n",
              "          [[-1.8044, -1.8044, -1.8044,  ..., -1.7696, -1.7870, -1.7870],\n",
              "           [-1.8044, -1.8044, -1.8044,  ..., -1.7696, -1.7870, -1.7870],\n",
              "           [-1.8044, -1.8044, -1.8044,  ..., -1.7347, -1.7522, -1.7870],\n",
              "           ...,\n",
              "           [-1.7870, -1.7870, -1.7870,  ..., -1.7292, -1.7292, -1.7522],\n",
              "           [-1.8044, -1.8044, -1.8044,  ..., -1.5953, -1.7347, -1.7399],\n",
              "           [-1.8044, -1.8044, -1.8044,  ..., -1.5770, -1.7466, -1.7870]]],\n",
              " \n",
              " \n",
              "         [[[-2.1179, -2.1179, -2.1179,  ..., -2.1104, -2.1179, -2.1179],\n",
              "           [-2.1179, -2.1179, -2.1179,  ..., -2.0891, -2.0720, -2.0720],\n",
              "           [-2.1179, -2.1179, -2.1179,  ..., -2.0837, -2.0953, -2.1179],\n",
              "           ...,\n",
              "           [-2.0914, -2.0939, -1.8504,  ..., -2.1179, -2.1179, -2.1179],\n",
              "           [-2.1062, -2.0746, -1.9347,  ..., -2.0891, -2.1179, -2.1179],\n",
              "           [-2.1050, -2.0942, -2.1104,  ..., -2.1089, -2.1179, -2.1179]],\n",
              " \n",
              "          [[-2.0357, -2.0357, -2.0357,  ..., -2.0280, -2.0357, -2.0357],\n",
              "           [-2.0357, -2.0357, -2.0357,  ..., -2.0063, -1.9888, -1.9888],\n",
              "           [-2.0357, -2.0357, -2.0357,  ..., -2.0007, -2.0126, -2.0357],\n",
              "           ...,\n",
              "           [-2.0086, -2.0112, -1.7622,  ..., -2.0357, -2.0357, -2.0357],\n",
              "           [-2.0238, -1.9914, -1.8484,  ..., -2.0063, -2.0357, -2.0357],\n",
              "           [-2.0225, -2.0115, -2.0280,  ..., -2.0265, -2.0357, -2.0357]],\n",
              " \n",
              "          [[-1.8044, -1.8044, -1.8044,  ..., -1.7968, -1.8044, -1.8044],\n",
              "           [-1.8044, -1.8044, -1.8044,  ..., -1.7751, -1.7577, -1.7577],\n",
              "           [-1.8044, -1.8044, -1.8044,  ..., -1.7696, -1.7815, -1.8044],\n",
              "           ...,\n",
              "           [-1.7774, -1.7800, -1.5322,  ..., -1.8044, -1.8044, -1.8044],\n",
              "           [-1.7926, -1.7603, -1.6180,  ..., -1.7751, -1.8044, -1.8044],\n",
              "           [-1.7913, -1.7804, -1.7968,  ..., -1.7953, -1.8044, -1.8044]]],\n",
              " \n",
              " \n",
              "         [[[-2.1179, -2.1179, -2.1179,  ..., -2.1179, -2.1179, -2.1179],\n",
              "           [-2.1179, -2.1179, -2.1179,  ..., -2.0837, -2.0837, -2.0837],\n",
              "           [-2.1179, -2.1179, -2.1179,  ..., -2.0837, -2.0665, -2.1008],\n",
              "           ...,\n",
              "           [-2.1070, -2.0803, -2.1042,  ..., -2.0837, -2.0549, -2.0590],\n",
              "           [-2.1179, -2.1179, -2.1179,  ..., -2.0837, -2.0837, -2.0837],\n",
              "           [-2.1179, -2.1179, -2.1179,  ..., -2.1179, -2.1179, -2.1179]],\n",
              " \n",
              "          [[-2.0357, -2.0357, -2.0357,  ..., -2.0357, -2.0357, -2.0357],\n",
              "           [-2.0357, -2.0357, -2.0357,  ..., -2.0007, -2.0007, -2.0007],\n",
              "           [-2.0357, -2.0357, -2.0357,  ..., -2.0007, -1.9832, -2.0182],\n",
              "           ...,\n",
              "           [-2.0246, -1.9973, -2.0217,  ..., -2.0007, -1.9713, -1.9755],\n",
              "           [-2.0357, -2.0357, -2.0357,  ..., -2.0007, -2.0007, -2.0007],\n",
              "           [-2.0357, -2.0357, -2.0357,  ..., -2.0357, -2.0357, -2.0357]],\n",
              " \n",
              "          [[-1.8044, -1.8044, -1.8044,  ..., -1.8044, -1.8044, -1.8044],\n",
              "           [-1.8044, -1.8044, -1.8044,  ..., -1.7696, -1.7696, -1.7696],\n",
              "           [-1.8044, -1.8044, -1.8044,  ..., -1.7696, -1.7522, -1.7870],\n",
              "           ...,\n",
              "           [-1.7934, -1.7662, -1.7904,  ..., -1.7696, -1.7403, -1.7445],\n",
              "           [-1.8044, -1.8044, -1.8044,  ..., -1.7696, -1.7696, -1.7696],\n",
              "           [-1.8044, -1.8044, -1.8044,  ..., -1.8044, -1.8044, -1.8044]]],\n",
              " \n",
              " \n",
              "         ...,\n",
              " \n",
              " \n",
              "         [[[-2.1179, -2.1179, -2.1179,  ..., -2.1179, -2.1179, -2.1179],\n",
              "           [-2.1179, -2.1179, -2.1179,  ..., -2.1179, -2.1179, -2.1179],\n",
              "           [-2.1179, -2.1179, -2.1179,  ..., -2.1179, -2.1179, -2.1179],\n",
              "           ...,\n",
              "           [-2.1179, -2.1179, -2.1179,  ..., -2.1179, -2.1179, -2.1179],\n",
              "           [-2.1179, -2.1179, -2.1179,  ..., -2.1179, -2.1179, -2.1179],\n",
              "           [-2.1179, -2.1179, -2.1179,  ..., -2.1179, -2.1179, -2.1179]],\n",
              " \n",
              "          [[-2.0357, -2.0357, -2.0357,  ..., -2.0357, -2.0357, -2.0357],\n",
              "           [-2.0357, -2.0357, -2.0357,  ..., -2.0357, -2.0357, -2.0357],\n",
              "           [-2.0357, -2.0357, -2.0357,  ..., -2.0357, -2.0357, -2.0357],\n",
              "           ...,\n",
              "           [-2.0357, -2.0357, -2.0357,  ..., -2.0357, -2.0357, -2.0357],\n",
              "           [-2.0357, -2.0357, -2.0357,  ..., -2.0357, -2.0357, -2.0357],\n",
              "           [-2.0357, -2.0357, -2.0357,  ..., -2.0357, -2.0357, -2.0357]],\n",
              " \n",
              "          [[-1.8044, -1.8044, -1.8044,  ..., -1.8044, -1.8044, -1.8044],\n",
              "           [-1.8044, -1.8044, -1.8044,  ..., -1.8044, -1.8044, -1.8044],\n",
              "           [-1.8044, -1.8044, -1.8044,  ..., -1.8044, -1.8044, -1.8044],\n",
              "           ...,\n",
              "           [-1.8044, -1.8044, -1.8044,  ..., -1.8044, -1.8044, -1.8044],\n",
              "           [-1.8044, -1.8044, -1.8044,  ..., -1.8044, -1.8044, -1.8044],\n",
              "           [-1.8044, -1.8044, -1.8044,  ..., -1.8044, -1.8044, -1.8044]]],\n",
              " \n",
              " \n",
              "         [[[-2.1104, -2.1104, -2.1104,  ..., -2.1104, -2.1104, -2.1104],\n",
              "           [-2.0611, -2.0611, -2.0611,  ..., -2.0611, -2.0611, -2.0611],\n",
              "           [-2.0419, -2.0129, -2.0084,  ..., -2.0152, -2.0152, -2.0400],\n",
              "           ...,\n",
              "           [-2.0366, -2.0229, -2.0084,  ..., -1.9980, -2.0129, -2.0419],\n",
              "           [-2.0899, -2.0899, -2.0899,  ..., -2.0899, -2.0899, -2.0899],\n",
              "           [-2.1179, -2.1179, -2.1179,  ..., -2.1179, -2.1179, -2.1179]],\n",
              " \n",
              "          [[-2.0280, -2.0280, -2.0280,  ..., -2.0280, -2.0280, -2.0280],\n",
              "           [-1.9776, -1.9776, -1.9776,  ..., -1.9776, -1.9776, -1.9776],\n",
              "           [-1.9580, -1.9283, -1.9238,  ..., -1.9307, -1.9307, -1.9561],\n",
              "           ...,\n",
              "           [-1.9526, -1.9386, -1.9238,  ..., -1.9132, -1.9283, -1.9580],\n",
              "           [-2.0071, -2.0071, -2.0071,  ..., -2.0071, -2.0071, -2.0071],\n",
              "           [-2.0357, -2.0357, -2.0357,  ..., -2.0357, -2.0357, -2.0357]],\n",
              " \n",
              "          [[-1.7968, -1.7968, -1.7968,  ..., -1.7968, -1.7968, -1.7968],\n",
              "           [-1.7466, -1.7466, -1.7466,  ..., -1.7466, -1.7466, -1.7466],\n",
              "           [-1.7271, -1.6975, -1.6930,  ..., -1.6999, -1.6999, -1.7251],\n",
              "           ...,\n",
              "           [-1.7217, -1.7078, -1.6930,  ..., -1.6824, -1.6975, -1.7271],\n",
              "           [-1.7759, -1.7759, -1.7759,  ..., -1.7759, -1.7759, -1.7759],\n",
              "           [-1.8044, -1.8044, -1.8044,  ..., -1.8044, -1.8044, -1.8044]]],\n",
              " \n",
              " \n",
              "         [[[-2.1179, -2.1179, -2.1179,  ..., -2.1179, -2.1179, -2.1179],\n",
              "           [-2.1179, -2.1179, -2.1179,  ..., -2.1179, -2.1179, -2.1179],\n",
              "           [-2.1179, -2.1179, -2.1179,  ..., -2.1179, -2.1179, -2.1179],\n",
              "           ...,\n",
              "           [-2.1179, -2.1179, -2.1179,  ..., -2.1179, -2.1179, -2.1179],\n",
              "           [-2.1179, -2.1179, -2.1179,  ..., -2.1179, -2.1179, -2.1179],\n",
              "           [-2.1179, -2.1179, -2.1179,  ..., -2.1179, -2.1179, -2.1179]],\n",
              " \n",
              "          [[-2.0357, -2.0357, -2.0357,  ..., -2.0357, -2.0357, -2.0357],\n",
              "           [-2.0357, -2.0357, -2.0357,  ..., -2.0357, -2.0357, -2.0357],\n",
              "           [-2.0357, -2.0357, -2.0357,  ..., -2.0357, -2.0357, -2.0357],\n",
              "           ...,\n",
              "           [-2.0357, -2.0357, -2.0357,  ..., -2.0357, -2.0357, -2.0357],\n",
              "           [-2.0357, -2.0357, -2.0357,  ..., -2.0357, -2.0357, -2.0357],\n",
              "           [-2.0357, -2.0357, -2.0357,  ..., -2.0357, -2.0357, -2.0357]],\n",
              " \n",
              "          [[-1.8044, -1.8044, -1.8044,  ..., -1.8044, -1.8044, -1.8044],\n",
              "           [-1.8044, -1.8044, -1.8044,  ..., -1.8044, -1.8044, -1.8044],\n",
              "           [-1.8044, -1.8044, -1.8044,  ..., -1.8044, -1.8044, -1.8044],\n",
              "           ...,\n",
              "           [-1.8044, -1.8044, -1.8044,  ..., -1.8044, -1.8044, -1.8044],\n",
              "           [-1.8044, -1.8044, -1.8044,  ..., -1.8044, -1.8044, -1.8044],\n",
              "           [-1.8044, -1.8044, -1.8044,  ..., -1.8044, -1.8044, -1.8044]]]]),\n",
              " tensor([0, 1, 3, 0, 3, 0, 1, 0, 2, 3, 1, 1, 3, 2, 3, 3, 1, 1, 3, 3, 0, 1, 3, 0,\n",
              "         1, 0, 3, 3, 3, 3, 3, 0])]"
            ]
          },
          "metadata": {},
          "execution_count": 17
        }
      ]
    },
    {
      "cell_type": "code",
      "metadata": {
        "id": "xkDumwjp0pnE"
      },
      "source": [
        "def train(model, loss_criterion, optimizer, epochs):\n",
        "  start = time.time()           #시작 time 재기!\n",
        "  history = []\n",
        "  best_acc = 0.0                #Best Accuracy Value\n",
        "\n",
        "  for epoch in range(epochs):\n",
        "    epoch_start = time.time()\n",
        "    print(\"Epoch: {}/{}\".format(epoch+1, epochs))\n",
        "\n",
        "    #Model to Training Mode!\n",
        "    model.train()\n",
        "\n",
        "    #Initialize Loss and Accuracy\n",
        "    train_loss = 0.0\n",
        "    train_acc = 0.0 \n",
        "\n",
        "    for i, (inputs, labels) in enumerate(train_data_loader):\n",
        "      inputs = inputs.to(device)\n",
        "      labels = labels.to(device)\n",
        "\n",
        "      optimizer.zero_grad()\n",
        "      #Forward Pass\n",
        "      outputs = model(inputs)\n",
        "\n",
        "      #Loss Computation\n",
        "      loss = loss_criterion(outputs, labels)\n",
        "\n",
        "      #Back Propagation\n",
        "      loss.backward()\n",
        "\n",
        "      #Update the parameters\n",
        "      optimizer.step()\n",
        "\n",
        "      train_loss += loss.item() * inputs.size(0)\n",
        "      \n",
        "      #Computing the accuracy(다소 헷갈리는 파트, 다시 확인!!!)\n",
        "      ret, predictions = torch.max(outputs.data, 1)\n",
        "      correct_counts = predictions.eq(labels.data.view_as(predictions))\n",
        "\n",
        "      acc = torch.mean(correct_counts.type(torch.FloatTensor))\n",
        "\n",
        "      train_acc += acc.item() * inputs.size(0)\n",
        "\n",
        "      if i % 50 == 0 and i != 0:\n",
        "        print(\"Batch Number: {:03d}, Training: Loss: {:.4f}, Accuracy: {:.4f}\".format(i, loss.item(), acc.item()))\n",
        "\n",
        "    avg_train_loss = train_loss / train_data_size\n",
        "    avg_train_acc = train_acc / train_data_size\n",
        "    history.append([avg_train_loss, avg_train_acc])\n",
        "\n",
        "    epoch_end = time.time()\n",
        "\n",
        "    print(\"Epoch : {:03d}, Training: Loss: {:.4f}, Accuracy: {:.4f}%, Time: {:.4f}s\".format(epoch, avg_train_loss, avg_train_acc*100, epoch_end-epoch_start))\n",
        "\n",
        "    if best_acc < avg_train_acc:\n",
        "      best_acc = avg_train_acc\n",
        "      torch.save(model, dataset + '_model_' + str(epoch))\n",
        "\n",
        "\n",
        "  return model, history\n",
        "\n",
        "\n"
      ],
      "execution_count": 18,
      "outputs": []
    },
    {
      "cell_type": "code",
      "metadata": {
        "colab": {
          "base_uri": "https://localhost:8080/"
        },
        "id": "nZJ22arf3-sx",
        "outputId": "11ee6463-1970-49f8-e811-31c2de3da0f1"
      },
      "source": [
        "num_epochs = 25\n",
        "train_model, history = train(resnet_model, criterion, optimizer, num_epochs)\n",
        "\n",
        "#Saving model\n",
        "torch.save(history, dataset + '_history.pt')"
      ],
      "execution_count": 19,
      "outputs": [
        {
          "output_type": "stream",
          "text": [
            "Epoch: 1/25\n"
          ],
          "name": "stdout"
        },
        {
          "output_type": "stream",
          "text": [
            "/usr/local/lib/python3.7/dist-packages/torch/nn/functional.py:718: UserWarning: Named tensors and all their associated APIs are an experimental feature and subject to change. Please do not use them for anything important until they are released as stable. (Triggered internally at  /pytorch/c10/core/TensorImpl.h:1156.)\n",
            "  return torch.max_pool2d(input, kernel_size, stride, padding, dilation, ceil_mode)\n"
          ],
          "name": "stderr"
        },
        {
          "output_type": "stream",
          "text": [
            "Batch Number: 050, Training: Loss: 0.6262, Accuracy: 0.7500\n",
            "Epoch : 000, Training: Loss: 0.9373, Accuracy: 61.6028%, Time: 1708.1722s\n",
            "Epoch: 2/25\n",
            "Batch Number: 050, Training: Loss: 1.2179, Accuracy: 0.5625\n",
            "Epoch : 001, Training: Loss: 0.7128, Accuracy: 73.9373%, Time: 56.1525s\n",
            "Epoch: 3/25\n",
            "Batch Number: 050, Training: Loss: 0.3600, Accuracy: 0.9375\n",
            "Epoch : 002, Training: Loss: 0.5718, Accuracy: 79.8955%, Time: 55.9657s\n",
            "Epoch: 4/25\n",
            "Batch Number: 050, Training: Loss: 0.3927, Accuracy: 0.8750\n",
            "Epoch : 003, Training: Loss: 0.4633, Accuracy: 84.7038%, Time: 55.8101s\n",
            "Epoch: 5/25\n",
            "Batch Number: 050, Training: Loss: 0.2847, Accuracy: 0.9062\n",
            "Epoch : 004, Training: Loss: 0.4022, Accuracy: 85.8885%, Time: 55.8576s\n",
            "Epoch: 6/25\n",
            "Batch Number: 050, Training: Loss: 0.4648, Accuracy: 0.8125\n",
            "Epoch : 005, Training: Loss: 0.4129, Accuracy: 85.8188%, Time: 56.0586s\n",
            "Epoch: 7/25\n",
            "Batch Number: 050, Training: Loss: 0.5329, Accuracy: 0.8438\n",
            "Epoch : 006, Training: Loss: 0.3462, Accuracy: 89.4774%, Time: 56.2432s\n",
            "Epoch: 8/25\n",
            "Batch Number: 050, Training: Loss: 0.3412, Accuracy: 0.8750\n",
            "Epoch : 007, Training: Loss: 0.3135, Accuracy: 90.0348%, Time: 56.3239s\n",
            "Epoch: 9/25\n",
            "Batch Number: 050, Training: Loss: 0.2214, Accuracy: 0.9375\n",
            "Epoch : 008, Training: Loss: 0.2718, Accuracy: 91.4286%, Time: 56.2707s\n",
            "Epoch: 10/25\n",
            "Batch Number: 050, Training: Loss: 0.1142, Accuracy: 1.0000\n",
            "Epoch : 009, Training: Loss: 0.2347, Accuracy: 92.9268%, Time: 56.1183s\n",
            "Epoch: 11/25\n",
            "Batch Number: 050, Training: Loss: 0.0472, Accuracy: 1.0000\n",
            "Epoch : 010, Training: Loss: 0.2355, Accuracy: 93.3798%, Time: 56.3088s\n",
            "Epoch: 12/25\n",
            "Batch Number: 050, Training: Loss: 0.2203, Accuracy: 0.9688\n",
            "Epoch : 011, Training: Loss: 0.2428, Accuracy: 93.4495%, Time: 56.0482s\n",
            "Epoch: 13/25\n",
            "Batch Number: 050, Training: Loss: 0.2614, Accuracy: 0.9062\n",
            "Epoch : 012, Training: Loss: 0.2246, Accuracy: 93.5540%, Time: 56.1849s\n",
            "Epoch: 14/25\n",
            "Batch Number: 050, Training: Loss: 0.2378, Accuracy: 0.9688\n",
            "Epoch : 013, Training: Loss: 0.1509, Accuracy: 96.1324%, Time: 56.0396s\n",
            "Epoch: 15/25\n",
            "Batch Number: 050, Training: Loss: 0.1605, Accuracy: 0.9375\n",
            "Epoch : 014, Training: Loss: 0.1774, Accuracy: 95.5749%, Time: 56.2471s\n",
            "Epoch: 16/25\n",
            "Batch Number: 050, Training: Loss: 0.0814, Accuracy: 0.9688\n",
            "Epoch : 015, Training: Loss: 0.1789, Accuracy: 95.6794%, Time: 55.8997s\n",
            "Epoch: 17/25\n",
            "Batch Number: 050, Training: Loss: 0.1810, Accuracy: 0.9062\n",
            "Epoch : 016, Training: Loss: 0.1366, Accuracy: 95.6794%, Time: 55.9787s\n",
            "Epoch: 18/25\n",
            "Batch Number: 050, Training: Loss: 0.0566, Accuracy: 0.9688\n",
            "Epoch : 017, Training: Loss: 0.1189, Accuracy: 96.9686%, Time: 56.3531s\n",
            "Epoch: 19/25\n",
            "Batch Number: 050, Training: Loss: 0.1618, Accuracy: 0.9375\n",
            "Epoch : 018, Training: Loss: 0.1416, Accuracy: 96.2369%, Time: 56.1157s\n",
            "Epoch: 20/25\n",
            "Batch Number: 050, Training: Loss: 0.1125, Accuracy: 0.9688\n",
            "Epoch : 019, Training: Loss: 0.1518, Accuracy: 95.7491%, Time: 55.7977s\n",
            "Epoch: 21/25\n",
            "Batch Number: 050, Training: Loss: 0.0954, Accuracy: 0.9375\n",
            "Epoch : 020, Training: Loss: 0.1343, Accuracy: 96.4111%, Time: 55.8466s\n",
            "Epoch: 22/25\n",
            "Batch Number: 050, Training: Loss: 0.0845, Accuracy: 0.9688\n",
            "Epoch : 021, Training: Loss: 0.1757, Accuracy: 95.0523%, Time: 55.7911s\n",
            "Epoch: 23/25\n",
            "Batch Number: 050, Training: Loss: 0.0517, Accuracy: 1.0000\n",
            "Epoch : 022, Training: Loss: 0.1313, Accuracy: 96.6202%, Time: 56.0151s\n",
            "Epoch: 24/25\n",
            "Batch Number: 050, Training: Loss: 0.0192, Accuracy: 1.0000\n",
            "Epoch : 023, Training: Loss: 0.0742, Accuracy: 97.8049%, Time: 55.9845s\n",
            "Epoch: 25/25\n",
            "Batch Number: 050, Training: Loss: 0.0105, Accuracy: 1.0000\n",
            "Epoch : 024, Training: Loss: 0.1084, Accuracy: 96.7944%, Time: 55.7339s\n"
          ],
          "name": "stdout"
        }
      ]
    },
    {
      "cell_type": "code",
      "metadata": {
        "colab": {
          "base_uri": "https://localhost:8080/",
          "height": 279
        },
        "id": "FCo7zgM24Xlr",
        "outputId": "3f5a2805-f138-4599-9e3a-e5427d3e4283"
      },
      "source": [
        "#Loss Examination Process\n",
        "history = np.array(history)\n",
        "plt.plot(history[:,0])\n",
        "plt.legend(['Tr Loss'])\n",
        "plt.xlabel('Epoch Number')\n",
        "plt.ylabel('Loss')\n",
        "plt.savefig(dataset+'_loss_curve.png')\n",
        "plt.show()"
      ],
      "execution_count": 20,
      "outputs": [
        {
          "output_type": "display_data",
          "data": {
            "image/png": "[encoded data removed]",
            "text/plain": [
              "<Figure size 432x288 with 1 Axes>"
            ]
          },
          "metadata": {
            "needs_background": "light"
          }
        }
      ]
    },
    {
      "cell_type": "code",
      "metadata": {
        "colab": {
          "base_uri": "https://localhost:8080/",
          "height": 279
        },
        "id": "K2EApkXk7b0M",
        "outputId": "9d3feff2-db5c-4faa-9d4b-831ec2ce926e"
      },
      "source": [
        "#Accuracy Examination Process\n",
        "history = np.array(history)\n",
        "plt.plot(history[:,1])\n",
        "plt.legend(['Tr Accuracy'])\n",
        "plt.xlabel('Epoch Number')\n",
        "plt.ylabel('Accuracy')\n",
        "plt.savefig(dataset + '_accuracy_curve.png')\n",
        "plt.show()"
      ],
      "execution_count": 21,
      "outputs": [
        {
          "output_type": "display_data",
          "data": {
            "image/png": "[encoded data removed]",
            "text/plain": [
              "<Figure size 432x288 with 1 Axes>"
            ]
          },
          "metadata": {
            "needs_background": "light"
          }
        }
      ]
    },
    {
      "cell_type": "code",
      "metadata": {
        "colab": {
          "base_uri": "https://localhost:8080/"
        },
        "id": "G9L5nQOjCa0q",
        "outputId": "34d46483-31fd-455f-f954-731ba7ab423e"
      },
      "source": [
        "# Test the model\n",
        "resnet_model.eval()\n",
        "correct = 0\n",
        "total = 0\n",
        "\n",
        "with torch.no_grad():\n",
        "    for images, labels in test_data_loader:\n",
        "        images = images.to(device)\n",
        "        labels = labels.to(device)\n",
        "        outputs = resnet_model(images)\n",
        "        _, predicted = torch.max(outputs.data, 1)\n",
        "        total += labels.size(0)\n",
        "        correct += (predicted == labels).sum().item()\n",
        "\n",
        "    print('Accuracy of the model on the test images: {} %'.format(100 * correct / total))"
      ],
      "execution_count": 22,
      "outputs": [
        {
          "output_type": "stream",
          "text": [
            "Accuracy of the model on the test images: 76.39593908629442 %\n"
          ],
          "name": "stdout"
        }
      ]
    },
    {
      "cell_type": "code",
      "metadata": {
        "id": "z9ZseU5NAyJg"
      },
      "source": [
        ""
      ],
      "execution_count": 22,
      "outputs": []
    }
  ]
}