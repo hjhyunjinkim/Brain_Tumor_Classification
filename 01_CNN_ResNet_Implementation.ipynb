{
  "nbformat": 4,
  "nbformat_minor": 0,
  "metadata": {
    "accelerator": "GPU",
    "colab": {
      "name": "CNN ResNet Implementation.ipynb",
      "provenance": [],
      "collapsed_sections": []
    },
    "kernelspec": {
      "display_name": "Python 3",
      "name": "python3"
    },
    "language_info": {
      "name": "python"
    }
  },
  "cells": [
    {
      "cell_type": "code",
      "metadata": {
        "colab": {
          "base_uri": "https://localhost:8080/"
        },
        "id": "Rx8lLw60T7c9",
        "outputId": "c8c6db82-bb43-4626-f839-d2f982ea9056"
      },
      "source": [
        "gpu_info = !nvidia-smi\n",
        "gpu_info = '\\n'.join(gpu_info)\n",
        "if gpu_info.find('failed') >= 0:\n",
        "  print('Select the Runtime > \"Change runtime type\" menu to enable a GPU accelerator, ')\n",
        "  print('and then re-execute this cell.')\n",
        "else:\n",
        "  print(gpu_info)"
      ],
      "execution_count": 84,
      "outputs": [
        {
          "output_type": "stream",
          "text": [
            "Sat Aug 21 14:52:53 2021       \n",
            "+-----------------------------------------------------------------------------+\n",
            "| NVIDIA-SMI 470.57.02    Driver Version: 460.32.03    CUDA Version: 11.2     |\n",
            "|-------------------------------+----------------------+----------------------+\n",
            "| GPU  Name        Persistence-M| Bus-Id        Disp.A | Volatile Uncorr. ECC |\n",
            "| Fan  Temp  Perf  Pwr:Usage/Cap|         Memory-Usage | GPU-Util  Compute M. |\n",
            "|                               |                      |               MIG M. |\n",
            "|===============================+======================+======================|\n",
            "|   0  Tesla T4            Off  | 00000000:00:04.0 Off |                    0 |\n",
            "| N/A   76C    P0    35W /  70W |   4906MiB / 15109MiB |      0%      Default |\n",
            "|                               |                      |                  N/A |\n",
            "+-------------------------------+----------------------+----------------------+\n",
            "                                                                               \n",
            "+-----------------------------------------------------------------------------+\n",
            "| Processes:                                                                  |\n",
            "|  GPU   GI   CI        PID   Type   Process name                  GPU Memory |\n",
            "|        ID   ID                                                   Usage      |\n",
            "|=============================================================================|\n",
            "|  No running processes found                                                 |\n",
            "+-----------------------------------------------------------------------------+\n"
          ],
          "name": "stdout"
        }
      ]
    },
    {
      "cell_type": "code",
      "metadata": {
        "colab": {
          "base_uri": "https://localhost:8080/"
        },
        "id": "QzAC67jyUDgH",
        "outputId": "cd5a073b-2d33-47c1-8838-919d541f93a9"
      },
      "source": [
        "from psutil import virtual_memory\n",
        "ram_gb = virtual_memory().total / 1e9\n",
        "print('Your runtime has {:.1f} gigabytes of available RAM\\n'.format(ram_gb))\n",
        "\n",
        "if ram_gb < 20:\n",
        "  print('To enable a high-RAM runtime, select the Runtime > \"Change runtime type\"')\n",
        "  print('menu, and then select High-RAM in the Runtime shape dropdown. Then, ')\n",
        "  print('re-execute this cell.')\n",
        "else:\n",
        "  print('You are using a high-RAM runtime!')"
      ],
      "execution_count": 85,
      "outputs": [
        {
          "output_type": "stream",
          "text": [
            "Your runtime has 13.6 gigabytes of available RAM\n",
            "\n",
            "To enable a high-RAM runtime, select the Runtime > \"Change runtime type\"\n",
            "menu, and then select High-RAM in the Runtime shape dropdown. Then, \n",
            "re-execute this cell.\n"
          ],
          "name": "stdout"
        }
      ]
    },
    {
      "cell_type": "markdown",
      "metadata": {
        "id": "eyYSoiHYUYme"
      },
      "source": [
        "####라이브러리"
      ]
    },
    {
      "cell_type": "code",
      "metadata": {
        "id": "ggL_6wnsUMcS"
      },
      "source": [
        "import torch, torchvision\n",
        "from torchvision import datasets, models, transforms\n",
        "import torch.nn as nn\n",
        "import torch.nn.functional as F\n",
        "import torch.optim as optim\n",
        "from torch.utils.data import DataLoader\n",
        "import time\n",
        "\n",
        "import numpy as np\n",
        "import matplotlib.pyplot as plt\n",
        "import os\n",
        "\n",
        "from PIL import Image"
      ],
      "execution_count": 86,
      "outputs": []
    },
    {
      "cell_type": "code",
      "metadata": {
        "id": "wz3e6J7ZzIRW"
      },
      "source": [
        "# Device configuration\n",
        "device = torch.device('cuda' if torch.cuda.is_available() else 'cpu')\n",
        "\n",
        "batch_size = 10\n",
        "learning_rate = 0.001\n",
        "num_epochs = 15"
      ],
      "execution_count": 87,
      "outputs": []
    },
    {
      "cell_type": "markdown",
      "metadata": {
        "id": "YB0RK2mlWHkT"
      },
      "source": [
        "1. 데이터 정의"
      ]
    },
    {
      "cell_type": "markdown",
      "metadata": {
        "id": "4LVJ5GRpWLBb"
      },
      "source": [
        "#### A. Datasets and Preprocessing"
      ]
    },
    {
      "cell_type": "code",
      "metadata": {
        "id": "VUXw_uKUWA6M"
      },
      "source": [
        "#image transformation\n",
        "image_transforms = {\n",
        "    'train': transforms.Compose([\n",
        "        transforms.ToTensor(),\n",
        "        transforms.Resize((132, 132)),\n",
        "        transforms.Normalize([0.485, 0.456, 0.406],\n",
        "                             [0.229, 0.224, 0.225])                 \n",
        "    ]),\n",
        "    'test': transforms.Compose([\n",
        "        transforms.ToTensor(),\n",
        "        transforms.Resize((132, 132)),\n",
        "        transforms.Normalize([0.485, 0.456, 0.406],\n",
        "                             [0.229, 0.224, 0.225])\n",
        "    ])\n",
        "}"
      ],
      "execution_count": 88,
      "outputs": []
    },
    {
      "cell_type": "markdown",
      "metadata": {
        "id": "ah6C1oO-aALJ"
      },
      "source": [
        "####B. DataLoader"
      ]
    },
    {
      "cell_type": "code",
      "metadata": {
        "colab": {
          "base_uri": "https://localhost:8080/",
          "height": 35
        },
        "id": "V6GHEnyNZsuZ",
        "outputId": "4772c844-b55b-467b-9b85-8c5d5fd8ae93"
      },
      "source": [
        "os.getcwd()"
      ],
      "execution_count": 89,
      "outputs": [
        {
          "output_type": "execute_result",
          "data": {
            "application/vnd.google.colaboratory.intrinsic+json": {
              "type": "string"
            },
            "text/plain": [
              "'/content'"
            ]
          },
          "metadata": {},
          "execution_count": 89
        }
      ]
    },
    {
      "cell_type": "code",
      "metadata": {
        "colab": {
          "base_uri": "https://localhost:8080/"
        },
        "id": "IS5sfCR2Z_RI",
        "outputId": "e85470b0-bcf6-4c09-b997-1c44a795e309"
      },
      "source": [
        "from google.colab import drive\n",
        "drive.mount('/content/gdrive')"
      ],
      "execution_count": 90,
      "outputs": [
        {
          "output_type": "stream",
          "text": [
            "Drive already mounted at /content/gdrive; to attempt to forcibly remount, call drive.mount(\"/content/gdrive\", force_remount=True).\n"
          ],
          "name": "stdout"
        }
      ]
    },
    {
      "cell_type": "code",
      "metadata": {
        "colab": {
          "base_uri": "https://localhost:8080/"
        },
        "id": "f12thQWRaHdU",
        "outputId": "7ff5f18f-cd88-45d2-8508-228294ed8adc"
      },
      "source": [
        "#The Path in which the data exists\n",
        "os.listdir('./gdrive/MyDrive/ColabNotebooks/data/')"
      ],
      "execution_count": 91,
      "outputs": [
        {
          "output_type": "execute_result",
          "data": {
            "text/plain": [
              "['tumor']"
            ]
          },
          "metadata": {},
          "execution_count": 91
        }
      ]
    },
    {
      "cell_type": "code",
      "metadata": {
        "colab": {
          "base_uri": "https://localhost:8080/"
        },
        "id": "311OA_E9a2TE",
        "outputId": "8266f2a1-f0e8-4ea4-80e4-81de5644575b"
      },
      "source": [
        "dataset = 'tumor'\n",
        "\n",
        "train_directory = './gdrive/MyDrive/ColabNotebooks/data/tumor/Training'\n",
        "\n",
        "test_directory = './gdrive/MyDrive/ColabNotebooks/data/tumor/Testing'\n",
        "\n",
        "#batch size\n",
        "batch_size = 32\n",
        "\n",
        "#Number of classes\n",
        "num_classes = len(os.listdir(train_directory))\n",
        "print(num_classes)\n",
        "\n",
        "data = {\n",
        "    'train': datasets.ImageFolder(root = train_directory, transform = image_transforms['train']),\n",
        "    'test': datasets.ImageFolder(root = test_directory, transform = image_transforms['test'])\n",
        "}\n",
        "#Mapping of the indices to the class names, in order to see the output classes of the test dataset images.\n",
        "idx_to_class = {v: x for x, v in data['train'].class_to_idx.items()}\n",
        "print(idx_to_class)\n",
        "\n",
        "#Size of each datasets.\n",
        "train_data_size = len(data['train'])\n",
        "test_data_size = len(data['test'])"
      ],
      "execution_count": 92,
      "outputs": [
        {
          "output_type": "stream",
          "text": [
            "4\n",
            "{0: 'glioma_tumor', 1: 'meningioma_tumor', 2: 'no_tumor', 3: 'pituitary_tumor'}\n"
          ],
          "name": "stdout"
        }
      ]
    },
    {
      "cell_type": "code",
      "metadata": {
        "colab": {
          "base_uri": "https://localhost:8080/"
        },
        "id": "wLdehGOcbsh_",
        "outputId": "ab16a8e2-70b8-4c7c-b18d-19cd96da78bb"
      },
      "source": [
        "#The Size for each class in the train dataset\n",
        "print(len(os.listdir(train_directory + '/glioma_tumor')))\n",
        "print(len(os.listdir(train_directory + '/meningioma_tumor')))\n",
        "print(len(os.listdir(train_directory + '/no_tumor')))\n",
        "print(len(os.listdir(train_directory + '/pituitary_tumor')))"
      ],
      "execution_count": 93,
      "outputs": [
        {
          "output_type": "stream",
          "text": [
            "826\n",
            "822\n",
            "395\n",
            "827\n"
          ],
          "name": "stdout"
        }
      ]
    },
    {
      "cell_type": "code",
      "metadata": {
        "colab": {
          "base_uri": "https://localhost:8080/",
          "height": 190
        },
        "id": "4OXG5d86fgP5",
        "outputId": "c24308c0-29d2-425e-c2ea-51e653af6ad1"
      },
      "source": [
        "train_data_loader = DataLoader(data['train'], batch_size = batch_size, shuffle = True)\n",
        "test_data_loader = DataLoader(data['test'], batch_size = batch_size, shuffle = False)\n",
        "\n",
        "def showimage(img):\n",
        "  img = img / 2 + 0.5\n",
        "  numpy_image = img.numpy()\n",
        "  plt.imshow(np.transpose(numpy_image, (1, 2, 0)))\n",
        "\n",
        "trainloader_1 = DataLoader(data['train'], batch_size = 4, shuffle =True)\n",
        "dataiter = iter(trainloader_1)\n",
        "images, labels = dataiter.next()\n",
        "\n",
        "showimage(torchvision.utils.make_grid(images))\n",
        "print(' '.join('%5s' % list(idx_to_class.values())[labels[j]] for j in range(4)))"
      ],
      "execution_count": 94,
      "outputs": [
        {
          "output_type": "stream",
          "text": [
            "Clipping input data to the valid range for imshow with RGB data ([0..1] for floats or [0..255] for integers).\n"
          ],
          "name": "stderr"
        },
        {
          "output_type": "stream",
          "text": [
            "glioma_tumor glioma_tumor pituitary_tumor glioma_tumor\n"
          ],
          "name": "stdout"
        },
        {
          "output_type": "display_data",
          "data": {
            "image/png": "[encoded data removed]",
            "text/plain": [
              "<Figure size 432x288 with 1 Axes>"
            ]
          },
          "metadata": {
            "needs_background": "light"
          }
        }
      ]
    },
    {
      "cell_type": "code",
      "metadata": {
        "id": "6ASmrGnphjdx"
      },
      "source": [
        "del trainloader_1"
      ],
      "execution_count": 95,
      "outputs": []
    },
    {
      "cell_type": "code",
      "metadata": {
        "colab": {
          "base_uri": "https://localhost:8080/"
        },
        "id": "2l2sJh7niHXp",
        "outputId": "17a8d9f6-d0bf-4fcd-dc8f-d28721eb80d7"
      },
      "source": [
        "#checking the size of the datasets\n",
        "train_data_size, test_data_size"
      ],
      "execution_count": 96,
      "outputs": [
        {
          "output_type": "execute_result",
          "data": {
            "text/plain": [
              "(2870, 394)"
            ]
          },
          "metadata": {},
          "execution_count": 96
        }
      ]
    },
    {
      "cell_type": "markdown",
      "metadata": {
        "id": "zEsgMIUliodn"
      },
      "source": [
        "# **2. 모델**"
      ]
    },
    {
      "cell_type": "markdown",
      "metadata": {
        "id": "onl_aurZidKc"
      },
      "source": [
        "####My Model implementation take"
      ]
    },
    {
      "cell_type": "code",
      "metadata": {
        "colab": {
          "base_uri": "https://localhost:8080/"
        },
        "id": "D4Ja8e7liNQI",
        "outputId": "2a2bd956-70df-491f-fdb1-42e61a885e1c"
      },
      "source": [
        "resnet_model = models.resnet50(pretrained=True)\n",
        "for param in resnet_model.parameters():\n",
        "  param.requires_grad = True\n",
        "\n",
        "#get the input of the fully connected layer\n",
        "n_inputs = resnet_model.fc.in_features\n",
        "\n",
        "resnet_model.fc = nn.Sequential(nn.Linear(n_inputs, 64),\n",
        "                                nn.ReLU(),\n",
        "                                nn.Dropout(p=0.5),\n",
        "                                nn.Linear(64, 64),\n",
        "                                nn.ReLU(),\n",
        "                                nn.Dropout(p=0.5),\n",
        "                                nn.Linear(64, num_classes),\n",
        "                                nn.LogSoftmax(dim=1))\n",
        "\n",
        "for name, child in resnet_model.named_children():\n",
        "  for name2, params in child.named_parameters():\n",
        "    params.requires_grad = True\n",
        "\n",
        "resnet_model.to(device)\n",
        "\n",
        "resnet_model"
      ],
      "execution_count": 97,
      "outputs": [
        {
          "output_type": "execute_result",
          "data": {
            "text/plain": [
              "ResNet(\n",
              "  (conv1): Conv2d(3, 64, kernel_size=(7, 7), stride=(2, 2), padding=(3, 3), bias=False)\n",
              "  (bn1): BatchNorm2d(64, eps=1e-05, momentum=0.1, affine=True, track_running_stats=True)\n",
              "  (relu): ReLU(inplace=True)\n",
              "  (maxpool): MaxPool2d(kernel_size=3, stride=2, padding=1, dilation=1, ceil_mode=False)\n",
              "  (layer1): Sequential(\n",
              "    (0): Bottleneck(\n",
              "      (conv1): Conv2d(64, 64, kernel_size=(1, 1), stride=(1, 1), bias=False)\n",
              "      (bn1): BatchNorm2d(64, eps=1e-05, momentum=0.1, affine=True, track_running_stats=True)\n",
              "      (conv2): Conv2d(64, 64, kernel_size=(3, 3), stride=(1, 1), padding=(1, 1), bias=False)\n",
              "      (bn2): BatchNorm2d(64, eps=1e-05, momentum=0.1, affine=True, track_running_stats=True)\n",
              "      (conv3): Conv2d(64, 256, kernel_size=(1, 1), stride=(1, 1), bias=False)\n",
              "      (bn3): BatchNorm2d(256, eps=1e-05, momentum=0.1, affine=True, track_running_stats=True)\n",
              "      (relu): ReLU(inplace=True)\n",
              "      (downsample): Sequential(\n",
              "        (0): Conv2d(64, 256, kernel_size=(1, 1), stride=(1, 1), bias=False)\n",
              "        (1): BatchNorm2d(256, eps=1e-05, momentum=0.1, affine=True, track_running_stats=True)\n",
              "      )\n",
              "    )\n",
              "    (1): Bottleneck(\n",
              "      (conv1): Conv2d(256, 64, kernel_size=(1, 1), stride=(1, 1), bias=False)\n",
              "      (bn1): BatchNorm2d(64, eps=1e-05, momentum=0.1, affine=True, track_running_stats=True)\n",
              "      (conv2): Conv2d(64, 64, kernel_size=(3, 3), stride=(1, 1), padding=(1, 1), bias=False)\n",
              "      (bn2): BatchNorm2d(64, eps=1e-05, momentum=0.1, affine=True, track_running_stats=True)\n",
              "      (conv3): Conv2d(64, 256, kernel_size=(1, 1), stride=(1, 1), bias=False)\n",
              "      (bn3): BatchNorm2d(256, eps=1e-05, momentum=0.1, affine=True, track_running_stats=True)\n",
              "      (relu): ReLU(inplace=True)\n",
              "    )\n",
              "    (2): Bottleneck(\n",
              "      (conv1): Conv2d(256, 64, kernel_size=(1, 1), stride=(1, 1), bias=False)\n",
              "      (bn1): BatchNorm2d(64, eps=1e-05, momentum=0.1, affine=True, track_running_stats=True)\n",
              "      (conv2): Conv2d(64, 64, kernel_size=(3, 3), stride=(1, 1), padding=(1, 1), bias=False)\n",
              "      (bn2): BatchNorm2d(64, eps=1e-05, momentum=0.1, affine=True, track_running_stats=True)\n",
              "      (conv3): Conv2d(64, 256, kernel_size=(1, 1), stride=(1, 1), bias=False)\n",
              "      (bn3): BatchNorm2d(256, eps=1e-05, momentum=0.1, affine=True, track_running_stats=True)\n",
              "      (relu): ReLU(inplace=True)\n",
              "    )\n",
              "  )\n",
              "  (layer2): Sequential(\n",
              "    (0): Bottleneck(\n",
              "      (conv1): Conv2d(256, 128, kernel_size=(1, 1), stride=(1, 1), bias=False)\n",
              "      (bn1): BatchNorm2d(128, eps=1e-05, momentum=0.1, affine=True, track_running_stats=True)\n",
              "      (conv2): Conv2d(128, 128, kernel_size=(3, 3), stride=(2, 2), padding=(1, 1), bias=False)\n",
              "      (bn2): BatchNorm2d(128, eps=1e-05, momentum=0.1, affine=True, track_running_stats=True)\n",
              "      (conv3): Conv2d(128, 512, kernel_size=(1, 1), stride=(1, 1), bias=False)\n",
              "      (bn3): BatchNorm2d(512, eps=1e-05, momentum=0.1, affine=True, track_running_stats=True)\n",
              "      (relu): ReLU(inplace=True)\n",
              "      (downsample): Sequential(\n",
              "        (0): Conv2d(256, 512, kernel_size=(1, 1), stride=(2, 2), bias=False)\n",
              "        (1): BatchNorm2d(512, eps=1e-05, momentum=0.1, affine=True, track_running_stats=True)\n",
              "      )\n",
              "    )\n",
              "    (1): Bottleneck(\n",
              "      (conv1): Conv2d(512, 128, kernel_size=(1, 1), stride=(1, 1), bias=False)\n",
              "      (bn1): BatchNorm2d(128, eps=1e-05, momentum=0.1, affine=True, track_running_stats=True)\n",
              "      (conv2): Conv2d(128, 128, kernel_size=(3, 3), stride=(1, 1), padding=(1, 1), bias=False)\n",
              "      (bn2): BatchNorm2d(128, eps=1e-05, momentum=0.1, affine=True, track_running_stats=True)\n",
              "      (conv3): Conv2d(128, 512, kernel_size=(1, 1), stride=(1, 1), bias=False)\n",
              "      (bn3): BatchNorm2d(512, eps=1e-05, momentum=0.1, affine=True, track_running_stats=True)\n",
              "      (relu): ReLU(inplace=True)\n",
              "    )\n",
              "    (2): Bottleneck(\n",
              "      (conv1): Conv2d(512, 128, kernel_size=(1, 1), stride=(1, 1), bias=False)\n",
              "      (bn1): BatchNorm2d(128, eps=1e-05, momentum=0.1, affine=True, track_running_stats=True)\n",
              "      (conv2): Conv2d(128, 128, kernel_size=(3, 3), stride=(1, 1), padding=(1, 1), bias=False)\n",
              "      (bn2): BatchNorm2d(128, eps=1e-05, momentum=0.1, affine=True, track_running_stats=True)\n",
              "      (conv3): Conv2d(128, 512, kernel_size=(1, 1), stride=(1, 1), bias=False)\n",
              "      (bn3): BatchNorm2d(512, eps=1e-05, momentum=0.1, affine=True, track_running_stats=True)\n",
              "      (relu): ReLU(inplace=True)\n",
              "    )\n",
              "    (3): Bottleneck(\n",
              "      (conv1): Conv2d(512, 128, kernel_size=(1, 1), stride=(1, 1), bias=False)\n",
              "      (bn1): BatchNorm2d(128, eps=1e-05, momentum=0.1, affine=True, track_running_stats=True)\n",
              "      (conv2): Conv2d(128, 128, kernel_size=(3, 3), stride=(1, 1), padding=(1, 1), bias=False)\n",
              "      (bn2): BatchNorm2d(128, eps=1e-05, momentum=0.1, affine=True, track_running_stats=True)\n",
              "      (conv3): Conv2d(128, 512, kernel_size=(1, 1), stride=(1, 1), bias=False)\n",
              "      (bn3): BatchNorm2d(512, eps=1e-05, momentum=0.1, affine=True, track_running_stats=True)\n",
              "      (relu): ReLU(inplace=True)\n",
              "    )\n",
              "  )\n",
              "  (layer3): Sequential(\n",
              "    (0): Bottleneck(\n",
              "      (conv1): Conv2d(512, 256, kernel_size=(1, 1), stride=(1, 1), bias=False)\n",
              "      (bn1): BatchNorm2d(256, eps=1e-05, momentum=0.1, affine=True, track_running_stats=True)\n",
              "      (conv2): Conv2d(256, 256, kernel_size=(3, 3), stride=(2, 2), padding=(1, 1), bias=False)\n",
              "      (bn2): BatchNorm2d(256, eps=1e-05, momentum=0.1, affine=True, track_running_stats=True)\n",
              "      (conv3): Conv2d(256, 1024, kernel_size=(1, 1), stride=(1, 1), bias=False)\n",
              "      (bn3): BatchNorm2d(1024, eps=1e-05, momentum=0.1, affine=True, track_running_stats=True)\n",
              "      (relu): ReLU(inplace=True)\n",
              "      (downsample): Sequential(\n",
              "        (0): Conv2d(512, 1024, kernel_size=(1, 1), stride=(2, 2), bias=False)\n",
              "        (1): BatchNorm2d(1024, eps=1e-05, momentum=0.1, affine=True, track_running_stats=True)\n",
              "      )\n",
              "    )\n",
              "    (1): Bottleneck(\n",
              "      (conv1): Conv2d(1024, 256, kernel_size=(1, 1), stride=(1, 1), bias=False)\n",
              "      (bn1): BatchNorm2d(256, eps=1e-05, momentum=0.1, affine=True, track_running_stats=True)\n",
              "      (conv2): Conv2d(256, 256, kernel_size=(3, 3), stride=(1, 1), padding=(1, 1), bias=False)\n",
              "      (bn2): BatchNorm2d(256, eps=1e-05, momentum=0.1, affine=True, track_running_stats=True)\n",
              "      (conv3): Conv2d(256, 1024, kernel_size=(1, 1), stride=(1, 1), bias=False)\n",
              "      (bn3): BatchNorm2d(1024, eps=1e-05, momentum=0.1, affine=True, track_running_stats=True)\n",
              "      (relu): ReLU(inplace=True)\n",
              "    )\n",
              "    (2): Bottleneck(\n",
              "      (conv1): Conv2d(1024, 256, kernel_size=(1, 1), stride=(1, 1), bias=False)\n",
              "      (bn1): BatchNorm2d(256, eps=1e-05, momentum=0.1, affine=True, track_running_stats=True)\n",
              "      (conv2): Conv2d(256, 256, kernel_size=(3, 3), stride=(1, 1), padding=(1, 1), bias=False)\n",
              "      (bn2): BatchNorm2d(256, eps=1e-05, momentum=0.1, affine=True, track_running_stats=True)\n",
              "      (conv3): Conv2d(256, 1024, kernel_size=(1, 1), stride=(1, 1), bias=False)\n",
              "      (bn3): BatchNorm2d(1024, eps=1e-05, momentum=0.1, affine=True, track_running_stats=True)\n",
              "      (relu): ReLU(inplace=True)\n",
              "    )\n",
              "    (3): Bottleneck(\n",
              "      (conv1): Conv2d(1024, 256, kernel_size=(1, 1), stride=(1, 1), bias=False)\n",
              "      (bn1): BatchNorm2d(256, eps=1e-05, momentum=0.1, affine=True, track_running_stats=True)\n",
              "      (conv2): Conv2d(256, 256, kernel_size=(3, 3), stride=(1, 1), padding=(1, 1), bias=False)\n",
              "      (bn2): BatchNorm2d(256, eps=1e-05, momentum=0.1, affine=True, track_running_stats=True)\n",
              "      (conv3): Conv2d(256, 1024, kernel_size=(1, 1), stride=(1, 1), bias=False)\n",
              "      (bn3): BatchNorm2d(1024, eps=1e-05, momentum=0.1, affine=True, track_running_stats=True)\n",
              "      (relu): ReLU(inplace=True)\n",
              "    )\n",
              "    (4): Bottleneck(\n",
              "      (conv1): Conv2d(1024, 256, kernel_size=(1, 1), stride=(1, 1), bias=False)\n",
              "      (bn1): BatchNorm2d(256, eps=1e-05, momentum=0.1, affine=True, track_running_stats=True)\n",
              "      (conv2): Conv2d(256, 256, kernel_size=(3, 3), stride=(1, 1), padding=(1, 1), bias=False)\n",
              "      (bn2): BatchNorm2d(256, eps=1e-05, momentum=0.1, affine=True, track_running_stats=True)\n",
              "      (conv3): Conv2d(256, 1024, kernel_size=(1, 1), stride=(1, 1), bias=False)\n",
              "      (bn3): BatchNorm2d(1024, eps=1e-05, momentum=0.1, affine=True, track_running_stats=True)\n",
              "      (relu): ReLU(inplace=True)\n",
              "    )\n",
              "    (5): Bottleneck(\n",
              "      (conv1): Conv2d(1024, 256, kernel_size=(1, 1), stride=(1, 1), bias=False)\n",
              "      (bn1): BatchNorm2d(256, eps=1e-05, momentum=0.1, affine=True, track_running_stats=True)\n",
              "      (conv2): Conv2d(256, 256, kernel_size=(3, 3), stride=(1, 1), padding=(1, 1), bias=False)\n",
              "      (bn2): BatchNorm2d(256, eps=1e-05, momentum=0.1, affine=True, track_running_stats=True)\n",
              "      (conv3): Conv2d(256, 1024, kernel_size=(1, 1), stride=(1, 1), bias=False)\n",
              "      (bn3): BatchNorm2d(1024, eps=1e-05, momentum=0.1, affine=True, track_running_stats=True)\n",
              "      (relu): ReLU(inplace=True)\n",
              "    )\n",
              "  )\n",
              "  (layer4): Sequential(\n",
              "    (0): Bottleneck(\n",
              "      (conv1): Conv2d(1024, 512, kernel_size=(1, 1), stride=(1, 1), bias=False)\n",
              "      (bn1): BatchNorm2d(512, eps=1e-05, momentum=0.1, affine=True, track_running_stats=True)\n",
              "      (conv2): Conv2d(512, 512, kernel_size=(3, 3), stride=(2, 2), padding=(1, 1), bias=False)\n",
              "      (bn2): BatchNorm2d(512, eps=1e-05, momentum=0.1, affine=True, track_running_stats=True)\n",
              "      (conv3): Conv2d(512, 2048, kernel_size=(1, 1), stride=(1, 1), bias=False)\n",
              "      (bn3): BatchNorm2d(2048, eps=1e-05, momentum=0.1, affine=True, track_running_stats=True)\n",
              "      (relu): ReLU(inplace=True)\n",
              "      (downsample): Sequential(\n",
              "        (0): Conv2d(1024, 2048, kernel_size=(1, 1), stride=(2, 2), bias=False)\n",
              "        (1): BatchNorm2d(2048, eps=1e-05, momentum=0.1, affine=True, track_running_stats=True)\n",
              "      )\n",
              "    )\n",
              "    (1): Bottleneck(\n",
              "      (conv1): Conv2d(2048, 512, kernel_size=(1, 1), stride=(1, 1), bias=False)\n",
              "      (bn1): BatchNorm2d(512, eps=1e-05, momentum=0.1, affine=True, track_running_stats=True)\n",
              "      (conv2): Conv2d(512, 512, kernel_size=(3, 3), stride=(1, 1), padding=(1, 1), bias=False)\n",
              "      (bn2): BatchNorm2d(512, eps=1e-05, momentum=0.1, affine=True, track_running_stats=True)\n",
              "      (conv3): Conv2d(512, 2048, kernel_size=(1, 1), stride=(1, 1), bias=False)\n",
              "      (bn3): BatchNorm2d(2048, eps=1e-05, momentum=0.1, affine=True, track_running_stats=True)\n",
              "      (relu): ReLU(inplace=True)\n",
              "    )\n",
              "    (2): Bottleneck(\n",
              "      (conv1): Conv2d(2048, 512, kernel_size=(1, 1), stride=(1, 1), bias=False)\n",
              "      (bn1): BatchNorm2d(512, eps=1e-05, momentum=0.1, affine=True, track_running_stats=True)\n",
              "      (conv2): Conv2d(512, 512, kernel_size=(3, 3), stride=(1, 1), padding=(1, 1), bias=False)\n",
              "      (bn2): BatchNorm2d(512, eps=1e-05, momentum=0.1, affine=True, track_running_stats=True)\n",
              "      (conv3): Conv2d(512, 2048, kernel_size=(1, 1), stride=(1, 1), bias=False)\n",
              "      (bn3): BatchNorm2d(2048, eps=1e-05, momentum=0.1, affine=True, track_running_stats=True)\n",
              "      (relu): ReLU(inplace=True)\n",
              "    )\n",
              "  )\n",
              "  (avgpool): AdaptiveAvgPool2d(output_size=(1, 1))\n",
              "  (fc): Sequential(\n",
              "    (0): Linear(in_features=2048, out_features=64, bias=True)\n",
              "    (1): ReLU()\n",
              "    (2): Dropout(p=0.5, inplace=False)\n",
              "    (3): Linear(in_features=64, out_features=64, bias=True)\n",
              "    (4): ReLU()\n",
              "    (5): Dropout(p=0.5, inplace=False)\n",
              "    (6): Linear(in_features=64, out_features=4, bias=True)\n",
              "    (7): LogSoftmax(dim=1)\n",
              "  )\n",
              ")"
            ]
          },
          "metadata": {},
          "execution_count": 97
        }
      ]
    },
    {
      "cell_type": "code",
      "metadata": {
        "id": "9vKmISaRzSoy"
      },
      "source": [
        "#Intialize Criterion and Optimizer\n",
        "criterion = nn.CrossEntropyLoss().to(device)\n",
        "optimizer = torch.optim.Adam(resnet_model.parameters(), lr=0.001)\n",
        "\n",
        "epochs = 25"
      ],
      "execution_count": 98,
      "outputs": []
    },
    {
      "cell_type": "code",
      "metadata": {
        "colab": {
          "base_uri": "https://localhost:8080/"
        },
        "id": "zZBefx3Zz7Nx",
        "outputId": "db456349-80f5-470d-8efd-300258578457"
      },
      "source": [
        "iter(train_data_loader).__next__()"
      ],
      "execution_count": 99,
      "outputs": [
        {
          "output_type": "execute_result",
          "data": {
            "text/plain": [
              "[tensor([[[[-2.1104, -2.1104, -2.1104,  ..., -2.1104, -2.1008, -2.1179],\n",
              "           [-2.0611, -2.0611, -2.0611,  ..., -2.0611, -2.0440, -2.0782],\n",
              "           [-2.0248, -1.9980, -2.0152,  ..., -2.0316, -2.0328, -2.0199],\n",
              "           ...,\n",
              "           [-2.0210, -1.9484, -1.9460,  ..., -1.9426, -1.9519, -1.9877],\n",
              "           [-2.0676, -2.0385, -2.0611,  ..., -2.0556, -2.0440, -2.0632],\n",
              "           [-2.1125, -2.1179, -2.1083,  ..., -2.1179, -2.1179, -2.1125]],\n",
              " \n",
              "          [[-2.0280, -2.0280, -2.0280,  ..., -2.0280, -2.0182, -2.0357],\n",
              "           [-1.9776, -1.9776, -1.9776,  ..., -1.9776, -1.9601, -1.9951],\n",
              "           [-1.9405, -1.9132, -1.9307,  ..., -1.9475, -1.9487, -1.9355],\n",
              "           ...,\n",
              "           [-1.9366, -1.8625, -1.8600,  ..., -1.8565, -1.8660, -1.9026],\n",
              "           [-1.9843, -1.9545, -1.9776,  ..., -1.9721, -1.9601, -1.9797],\n",
              "           [-2.0302, -2.0357, -2.0259,  ..., -2.0357, -2.0357, -2.0302]],\n",
              " \n",
              "          [[-1.7968, -1.7968, -1.7968,  ..., -1.7968, -1.7870, -1.8044],\n",
              "           [-1.7466, -1.7466, -1.7466,  ..., -1.7466, -1.7292, -1.7640],\n",
              "           [-1.7096, -1.6824, -1.6999,  ..., -1.7166, -1.7179, -1.7047],\n",
              "           ...,\n",
              "           [-1.7058, -1.6320, -1.6295,  ..., -1.6260, -1.6355, -1.6720],\n",
              "           [-1.7533, -1.7236, -1.7466,  ..., -1.7411, -1.7292, -1.7487],\n",
              "           [-1.7990, -1.8044, -1.7947,  ..., -1.8044, -1.8044, -1.7990]]],\n",
              " \n",
              " \n",
              "         [[[-2.0292, -2.0546, -2.0804,  ..., -2.0756, -2.0756, -2.0756],\n",
              "           [-2.0805, -1.9888, -2.0394,  ..., -2.0494, -2.0494, -2.0494],\n",
              "           [-2.0925, -2.0176, -1.9863,  ..., -2.0096, -2.0209, -2.0329],\n",
              "           ...,\n",
              "           [-2.0916, -1.9223, -1.9346,  ..., -1.9124, -1.9550, -1.9809],\n",
              "           [-2.0916, -1.9223, -1.9346,  ..., -1.9124, -1.9550, -1.9809],\n",
              "           [-2.0833, -1.9470, -1.9225,  ..., -1.9295, -1.9721, -1.9980]],\n",
              " \n",
              "          [[-1.9450, -1.9710, -1.9973,  ..., -1.9925, -1.9925, -1.9925],\n",
              "           [-1.9975, -1.9037, -1.9555,  ..., -1.9657, -1.9657, -1.9657],\n",
              "           [-2.0097, -1.9332, -1.9011,  ..., -1.9250, -1.9365, -1.9488],\n",
              "           ...,\n",
              "           [-2.0089, -1.8358, -1.8483,  ..., -1.8256, -1.8692, -1.8957],\n",
              "           [-2.0089, -1.8358, -1.8483,  ..., -1.8256, -1.8692, -1.8957],\n",
              "           [-2.0003, -1.8610, -1.8360,  ..., -1.8431, -1.8867, -1.9132]],\n",
              " \n",
              "          [[-1.7142, -1.7400, -1.7662,  ..., -1.7614, -1.7614, -1.7614],\n",
              "           [-1.7664, -1.6730, -1.7246,  ..., -1.7347, -1.7347, -1.7347],\n",
              "           [-1.7786, -1.7024, -1.6705,  ..., -1.6942, -1.7057, -1.7179],\n",
              "           ...,\n",
              "           [-1.7777, -1.6054, -1.6179,  ..., -1.5953, -1.6387, -1.6650],\n",
              "           [-1.7777, -1.6054, -1.6179,  ..., -1.5953, -1.6387, -1.6650],\n",
              "           [-1.7692, -1.6305, -1.6056,  ..., -1.6127, -1.6561, -1.6824]]],\n",
              " \n",
              " \n",
              "         [[[-2.1179, -2.1179, -2.1179,  ..., -2.1104, -2.1104, -2.1104],\n",
              "           [-2.1179, -2.1179, -2.1179,  ..., -2.0611, -2.0611, -2.0611],\n",
              "           [-2.1179, -2.1179, -2.1179,  ..., -2.0494, -2.0665, -2.0665],\n",
              "           ...,\n",
              "           [-2.0665, -2.0665, -2.0665,  ..., -2.0837, -2.0665, -2.0665],\n",
              "           [-2.0837, -2.0837, -2.0611,  ..., -2.0837, -2.0837, -2.0837],\n",
              "           [-2.1179, -2.1179, -2.1104,  ..., -2.1179, -2.1179, -2.1179]],\n",
              " \n",
              "          [[-2.0357, -2.0357, -2.0357,  ..., -2.0280, -2.0280, -2.0280],\n",
              "           [-2.0357, -2.0357, -2.0357,  ..., -1.9776, -1.9776, -1.9776],\n",
              "           [-2.0357, -2.0357, -2.0357,  ..., -1.9657, -1.9832, -1.9832],\n",
              "           ...,\n",
              "           [-1.9832, -1.9832, -1.9832,  ..., -2.0007, -1.9832, -1.9832],\n",
              "           [-2.0007, -2.0007, -1.9776,  ..., -2.0007, -2.0007, -2.0007],\n",
              "           [-2.0357, -2.0357, -2.0280,  ..., -2.0357, -2.0357, -2.0357]],\n",
              " \n",
              "          [[-1.8044, -1.8044, -1.8044,  ..., -1.7968, -1.7968, -1.7968],\n",
              "           [-1.8044, -1.8044, -1.8044,  ..., -1.7466, -1.7466, -1.7466],\n",
              "           [-1.8044, -1.8044, -1.8044,  ..., -1.7347, -1.7522, -1.7522],\n",
              "           ...,\n",
              "           [-1.7522, -1.7522, -1.7522,  ..., -1.7696, -1.7522, -1.7522],\n",
              "           [-1.7696, -1.7696, -1.7466,  ..., -1.7696, -1.7696, -1.7696],\n",
              "           [-1.8044, -1.8044, -1.7968,  ..., -1.8044, -1.8044, -1.8044]]],\n",
              " \n",
              " \n",
              "         ...,\n",
              " \n",
              " \n",
              "         [[[-1.7434, -1.7741, -1.7157,  ..., -1.7407, -1.7494, -1.7298],\n",
              "           [-1.7426, -1.7045, -1.7536,  ..., -1.7367, -1.7396, -1.7490],\n",
              "           [-1.7585, -1.7687, -2.0995,  ..., -2.1179, -2.1179, -1.7312],\n",
              "           ...,\n",
              "           [-1.7412, -1.7412, -2.1135,  ..., -2.0837, -2.0837, -1.8382],\n",
              "           [-1.7412, -1.7412, -2.1135,  ..., -2.0837, -2.0837, -1.8382],\n",
              "           [-1.7412, -1.7412, -2.1135,  ..., -2.0837, -2.0837, -1.8382]],\n",
              " \n",
              "          [[-1.6529, -1.6842, -1.6246,  ..., -1.6501, -1.6590, -1.6389],\n",
              "           [-1.6520, -1.6130, -1.6633,  ..., -1.6461, -1.6490, -1.6586],\n",
              "           [-1.6683, -1.6787, -2.0169,  ..., -2.0357, -2.0357, -1.6404],\n",
              "           ...,\n",
              "           [-1.6506, -1.6506, -2.0312,  ..., -2.0007, -2.0007, -1.7498],\n",
              "           [-1.6506, -1.6506, -2.0312,  ..., -2.0007, -2.0007, -1.7498],\n",
              "           [-1.6506, -1.6506, -2.0312,  ..., -2.0007, -2.0007, -1.7498]],\n",
              " \n",
              "          [[-1.4233, -1.4545, -1.3951,  ..., -1.4205, -1.4294, -1.4094],\n",
              "           [-1.4224, -1.3836, -1.4337,  ..., -1.4165, -1.4195, -1.4290],\n",
              "           [-1.4386, -1.4490, -1.7857,  ..., -1.8044, -1.8044, -1.4108],\n",
              "           ...,\n",
              "           [-1.4210, -1.4210, -1.8000,  ..., -1.7696, -1.7696, -1.5198],\n",
              "           [-1.4210, -1.4210, -1.8000,  ..., -1.7696, -1.7696, -1.5198],\n",
              "           [-1.4210, -1.4210, -1.8000,  ..., -1.7696, -1.7696, -1.5198]]],\n",
              " \n",
              " \n",
              "         [[[-2.1179, -2.1179, -2.1179,  ..., -2.1008, -2.1179, -2.1179],\n",
              "           [-2.1179, -2.1179, -2.1179,  ..., -2.0665, -2.0837, -2.0837],\n",
              "           [-2.0933, -2.0642, -2.0837,  ..., -2.0665, -2.0642, -2.0933],\n",
              "           ...,\n",
              "           [-2.0728, -2.0675, -2.0769,  ..., -2.0068, -2.0219, -2.0323],\n",
              "           [-2.0837, -2.0837, -2.0837,  ..., -2.0131, -2.0134, -2.0656],\n",
              "           [-2.1179, -2.1179, -2.1179,  ..., -2.0933, -2.0867, -2.0933]],\n",
              " \n",
              "          [[-2.0357, -2.0357, -2.0357,  ..., -2.0182, -2.0357, -2.0357],\n",
              "           [-2.0357, -2.0357, -2.0357,  ..., -1.9832, -2.0007, -2.0007],\n",
              "           [-2.0105, -1.9808, -2.0007,  ..., -1.9832, -1.9808, -2.0105],\n",
              "           ...,\n",
              "           [-1.9896, -1.9842, -1.9938,  ..., -1.9222, -1.9376, -1.9482],\n",
              "           [-2.0007, -2.0007, -2.0007,  ..., -1.9286, -1.9289, -1.9822],\n",
              "           [-2.0357, -2.0357, -2.0357,  ..., -2.0105, -2.0038, -2.0105]],\n",
              " \n",
              "          [[-1.8044, -1.8044, -1.8044,  ..., -1.7870, -1.8044, -1.8044],\n",
              "           [-1.8044, -1.8044, -1.8044,  ..., -1.7522, -1.7696, -1.7696],\n",
              "           [-1.7794, -1.7498, -1.7696,  ..., -1.7522, -1.7498, -1.7794],\n",
              "           ...,\n",
              "           [-1.7585, -1.7532, -1.7627,  ..., -1.6914, -1.7067, -1.7173],\n",
              "           [-1.7696, -1.7696, -1.7696,  ..., -1.6978, -1.6981, -1.7512],\n",
              "           [-1.8044, -1.8044, -1.8044,  ..., -1.7794, -1.7727, -1.7794]]],\n",
              " \n",
              " \n",
              "         [[[-2.1179, -2.1179, -2.1179,  ..., -2.1179, -2.1179, -2.1179],\n",
              "           [-2.1179, -2.1179, -2.1179,  ..., -2.1179, -2.1179, -2.1179],\n",
              "           [-2.1179, -2.1179, -2.1179,  ..., -2.1179, -2.1179, -2.1179],\n",
              "           ...,\n",
              "           [-2.0347, -2.1042, -2.0073,  ..., -2.1085, -2.0724, -1.8877],\n",
              "           [-1.4863, -1.9516, -2.0690,  ..., -2.1026, -2.0922, -1.8595],\n",
              "           [ 1.8427, -0.4927, -1.8931,  ..., -2.0798, -2.0895, -2.0754]],\n",
              " \n",
              "          [[-2.0357, -2.0357, -2.0357,  ..., -2.0357, -2.0357, -2.0357],\n",
              "           [-2.0357, -2.0357, -2.0357,  ..., -2.0357, -2.0357, -2.0357],\n",
              "           [-2.0357, -2.0357, -2.0357,  ..., -2.0357, -2.0357, -2.0357],\n",
              "           ...,\n",
              "           [-1.9506, -2.0217, -1.9227,  ..., -2.0261, -1.9892, -1.8004],\n",
              "           [-1.3900, -1.8657, -1.9857,  ..., -2.0200, -2.0095, -1.7716],\n",
              "           [ 2.0133, -0.3743, -1.8059,  ..., -1.9968, -2.0067, -1.9923]],\n",
              " \n",
              "          [[-1.8044, -1.8044, -1.8044,  ..., -1.8044, -1.8044, -1.8044],\n",
              "           [-1.8044, -1.8044, -1.8044,  ..., -1.8044, -1.8044, -1.8044],\n",
              "           [-1.8044, -1.8044, -1.8044,  ..., -1.8044, -1.8044, -1.8044],\n",
              "           ...,\n",
              "           [-1.7197, -1.7905, -1.6919,  ..., -1.7949, -1.7581, -1.5701],\n",
              "           [-1.1616, -1.6352, -1.7547,  ..., -1.7888, -1.7783, -1.5415],\n",
              "           [ 2.2266, -0.1504, -1.5756,  ..., -1.7657, -1.7755, -1.7612]]]]),\n",
              " tensor([3, 1, 1, 3, 1, 2, 1, 3, 0, 3, 0, 3, 3, 0, 1, 0, 0, 3, 1, 1, 0, 3, 3, 3,\n",
              "         3, 3, 1, 0, 0, 2, 3, 2])]"
            ]
          },
          "metadata": {},
          "execution_count": 99
        }
      ]
    },
    {
      "cell_type": "code",
      "metadata": {
        "id": "xkDumwjp0pnE"
      },
      "source": [
        "def train(model, loss_criterion, optimizer, epochs):\n",
        "  start = time.time()           #시작 time 재기!\n",
        "  history = []\n",
        "  best_acc = 0.0                #Best Accuracy Value\n",
        "\n",
        "  for epoch in range(epochs):\n",
        "    epoch_start = time.time()\n",
        "    print(\"Epoch: {}/{}\".format(epoch+1, epochs))\n",
        "\n",
        "    #Model to Training Mode!\n",
        "    model.train()\n",
        "\n",
        "    #Initialize Loss and Accuracy\n",
        "    train_loss = 0.0\n",
        "    train_acc = 0.0 \n",
        "\n",
        "    for i, (inputs, labels) in enumerate(train_data_loader):\n",
        "      inputs = inputs.to(device)\n",
        "      labels = labels.to(device)\n",
        "\n",
        "      optimizer.zero_grad()\n",
        "      #Forward Pass\n",
        "      outputs = model(inputs)\n",
        "\n",
        "      #Loss Computation\n",
        "      loss = loss_criterion(outputs, labels)\n",
        "\n",
        "      #Back Propagation\n",
        "      loss.backward()\n",
        "\n",
        "      #Update the parameters\n",
        "      optimizer.step()\n",
        "\n",
        "      train_loss += loss.item() * inputs.size(0)\n",
        "      \n",
        "      #Computing the accuracy(다소 헷갈리는 파트, 다시 확인!!!)\n",
        "      ret, predictions = torch.max(outputs.data, 1)\n",
        "      correct_counts = predictions.eq(labels.data.view_as(predictions))\n",
        "\n",
        "      acc = torch.mean(correct_counts.type(torch.FloatTensor))\n",
        "\n",
        "      train_acc += acc.item() * inputs.size(0)\n",
        "\n",
        "      if i % 50 == 0 and i != 0:\n",
        "        print(\"Batch Number: {:03d}, Training: Loss: {:.4f}, Accuracy: {:.4f}\".format(i, loss.item(), acc.item()))\n",
        "\n",
        "    avg_train_loss = train_loss / train_data_size\n",
        "    avg_train_acc = train_acc / train_data_size\n",
        "    history.append([avg_train_loss, avg_train_acc])\n",
        "\n",
        "    epoch_end = time.time()\n",
        "\n",
        "    print(\"Epoch : {:03d}, Training: Loss: {:.4f}, Accuracy: {:.4f}%, Time: {:.4f}s\".format(epoch, avg_train_loss, avg_train_acc*100, epoch_end-epoch_start))\n",
        "\n",
        "    if best_acc < avg_train_acc:\n",
        "      best_acc = avg_train_acc\n",
        "      torch.save(model, dataset + '_model_' + str(epoch))\n",
        "\n",
        "\n",
        "  return model, history\n",
        "\n",
        "\n"
      ],
      "execution_count": 100,
      "outputs": []
    },
    {
      "cell_type": "code",
      "metadata": {
        "colab": {
          "base_uri": "https://localhost:8080/"
        },
        "id": "nZJ22arf3-sx",
        "outputId": "86268c08-058c-44d1-e9c2-aed827f2143b"
      },
      "source": [
        "num_epochs = 10\n",
        "train_model, history = train(resnet_model, criterion, optimizer, num_epochs)\n",
        "\n",
        "#Saving model\n",
        "torch.save(history, dataset + '_history.pt')"
      ],
      "execution_count": 101,
      "outputs": [
        {
          "output_type": "stream",
          "text": [
            "Epoch: 1/10\n",
            "Batch Number: 050, Training: Loss: 0.8473, Accuracy: 0.6250\n",
            "Epoch : 000, Training: Loss: 1.0058, Accuracy: 56.0976%, Time: 33.3611s\n",
            "Epoch: 2/10\n",
            "Batch Number: 050, Training: Loss: 0.8118, Accuracy: 0.6250\n",
            "Epoch : 001, Training: Loss: 0.7616, Accuracy: 69.6167%, Time: 33.1014s\n",
            "Epoch: 3/10\n",
            "Batch Number: 050, Training: Loss: 0.9174, Accuracy: 0.6875\n",
            "Epoch : 002, Training: Loss: 0.7012, Accuracy: 73.2753%, Time: 33.0817s\n",
            "Epoch: 4/10\n",
            "Batch Number: 050, Training: Loss: 0.6208, Accuracy: 0.7500\n",
            "Epoch : 003, Training: Loss: 0.5878, Accuracy: 77.3519%, Time: 32.9542s\n",
            "Epoch: 5/10\n",
            "Batch Number: 050, Training: Loss: 0.3725, Accuracy: 0.8750\n",
            "Epoch : 004, Training: Loss: 0.5273, Accuracy: 79.9652%, Time: 33.1719s\n",
            "Epoch: 6/10\n",
            "Batch Number: 050, Training: Loss: 0.5098, Accuracy: 0.8438\n",
            "Epoch : 005, Training: Loss: 0.4820, Accuracy: 82.0906%, Time: 33.3037s\n",
            "Epoch: 7/10\n",
            "Batch Number: 050, Training: Loss: 0.4861, Accuracy: 0.8750\n",
            "Epoch : 006, Training: Loss: 0.5055, Accuracy: 82.9965%, Time: 33.2824s\n",
            "Epoch: 8/10\n",
            "Batch Number: 050, Training: Loss: 0.9572, Accuracy: 0.8438\n",
            "Epoch : 007, Training: Loss: 0.4018, Accuracy: 86.7944%, Time: 33.2620s\n",
            "Epoch: 9/10\n",
            "Batch Number: 050, Training: Loss: 0.2803, Accuracy: 0.8750\n",
            "Epoch : 008, Training: Loss: 0.3603, Accuracy: 88.1185%, Time: 33.2384s\n",
            "Epoch: 10/10\n",
            "Batch Number: 050, Training: Loss: 0.7731, Accuracy: 0.8125\n",
            "Epoch : 009, Training: Loss: 0.4168, Accuracy: 86.9686%, Time: 32.7560s\n"
          ],
          "name": "stdout"
        }
      ]
    },
    {
      "cell_type": "code",
      "metadata": {
        "colab": {
          "base_uri": "https://localhost:8080/",
          "height": 279
        },
        "id": "FCo7zgM24Xlr",
        "outputId": "7a577764-fc9e-4dec-a108-c4a7ed4e995e"
      },
      "source": [
        "#Loss Examination Process\n",
        "history = np.array(history)\n",
        "plt.plot(history[:,0])\n",
        "plt.legend(['Tr Loss'])\n",
        "plt.xlabel('Epoch Number')\n",
        "plt.ylabel('Loss')\n",
        "plt.savefig(dataset+'_loss_curve.png')\n",
        "plt.show()"
      ],
      "execution_count": 102,
      "outputs": [
        {
          "output_type": "display_data",
          "data": {
            "image/png": "[encoded data removed]",
            "text/plain": [
              "<Figure size 432x288 with 1 Axes>"
            ]
          },
          "metadata": {
            "needs_background": "light"
          }
        }
      ]
    },
    {
      "cell_type": "code",
      "metadata": {
        "colab": {
          "base_uri": "https://localhost:8080/",
          "height": 279
        },
        "id": "K2EApkXk7b0M",
        "outputId": "f335b065-4700-4d11-d670-1a1131391131"
      },
      "source": [
        "#Accuracy Examination Process\n",
        "history = np.array(history)\n",
        "plt.plot(history[:,1])\n",
        "plt.legend(['Tr Accuracy'])\n",
        "plt.xlabel('Epoch Number')\n",
        "plt.ylabel('Accuracy')\n",
        "plt.savefig(dataset + '_accuracy_curve.png')\n",
        "plt.show()"
      ],
      "execution_count": 103,
      "outputs": [
        {
          "output_type": "display_data",
          "data": {
            "image/png": "[encoded data removed]",
            "text/plain": [
              "<Figure size 432x288 with 1 Axes>"
            ]
          },
          "metadata": {
            "needs_background": "light"
          }
        }
      ]
    },
    {
      "cell_type": "code",
      "metadata": {
        "colab": {
          "base_uri": "https://localhost:8080/"
        },
        "id": "G9L5nQOjCa0q",
        "outputId": "6c072298-b09d-4c7b-fc3d-eb586a2b7482"
      },
      "source": [
        "# Test the model\n",
        "resnet_model.eval()\n",
        "with torch.no_grad():\n",
        "    correct = 0\n",
        "    total = 0\n",
        "    for images, labels in test_data_loader:\n",
        "        images = images.to(device)\n",
        "        labels = labels.to(device)\n",
        "        outputs = resnet_model(images)\n",
        "        _, predicted = torch.max(outputs.data, 1)\n",
        "        total += labels.size(0)\n",
        "        correct += (predicted == labels).sum().item()\n",
        "\n",
        "    print('Accuracy of the model on the test images: {} %'.format(100 * correct / total))"
      ],
      "execution_count": 104,
      "outputs": [
        {
          "output_type": "stream",
          "text": [
            "Accuracy of the model on the test images: 52.28426395939086 %\n"
          ],
          "name": "stdout"
        }
      ]
    }
  ]
}
