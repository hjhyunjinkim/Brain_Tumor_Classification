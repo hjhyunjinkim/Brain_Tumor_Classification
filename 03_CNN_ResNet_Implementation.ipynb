{
  "nbformat": 4,
  "nbformat_minor": 0,
  "metadata": {
    "accelerator": "GPU",
    "colab": {
      "name": "03_CNN_ResNet_Implementation.ipynb",
      "provenance": [],
      "collapsed_sections": []
    },
    "kernelspec": {
      "display_name": "Python 3",
      "name": "python3"
    },
    "language_info": {
      "name": "python"
    }
  },
  "cells": [
    {
      "cell_type": "code",
      "metadata": {
        "colab": {
          "base_uri": "https://localhost:8080/"
        },
        "id": "Rx8lLw60T7c9",
        "outputId": "81146618-0490-4aa4-82e3-be2f1b4481c7"
      },
      "source": [
        "gpu_info = !nvidia-smi\n",
        "gpu_info = '\\n'.join(gpu_info)\n",
        "if gpu_info.find('failed') >= 0:\n",
        "  print('Select the Runtime > \"Change runtime type\" menu to enable a GPU accelerator, ')\n",
        "  print('and then re-execute this cell.')\n",
        "else:\n",
        "  print(gpu_info)"
      ],
      "execution_count": 60,
      "outputs": [
        {
          "output_type": "stream",
          "text": [
            "Sat Aug 28 16:19:54 2021       \n",
            "+-----------------------------------------------------------------------------+\n",
            "| NVIDIA-SMI 470.57.02    Driver Version: 460.32.03    CUDA Version: 11.2     |\n",
            "|-------------------------------+----------------------+----------------------+\n",
            "| GPU  Name        Persistence-M| Bus-Id        Disp.A | Volatile Uncorr. ECC |\n",
            "| Fan  Temp  Perf  Pwr:Usage/Cap|         Memory-Usage | GPU-Util  Compute M. |\n",
            "|                               |                      |               MIG M. |\n",
            "|===============================+======================+======================|\n",
            "|   0  Tesla K80           Off  | 00000000:00:04.0 Off |                    0 |\n",
            "| N/A   55C    P0    58W / 149W |   4137MiB / 11441MiB |      0%      Default |\n",
            "|                               |                      |                  N/A |\n",
            "+-------------------------------+----------------------+----------------------+\n",
            "                                                                               \n",
            "+-----------------------------------------------------------------------------+\n",
            "| Processes:                                                                  |\n",
            "|  GPU   GI   CI        PID   Type   Process name                  GPU Memory |\n",
            "|        ID   ID                                                   Usage      |\n",
            "|=============================================================================|\n",
            "|  No running processes found                                                 |\n",
            "+-----------------------------------------------------------------------------+\n"
          ],
          "name": "stdout"
        }
      ]
    },
    {
      "cell_type": "code",
      "metadata": {
        "colab": {
          "base_uri": "https://localhost:8080/"
        },
        "id": "QzAC67jyUDgH",
        "outputId": "b9b37056-59aa-447b-86ee-fce821033a77"
      },
      "source": [
        "from psutil import virtual_memory\n",
        "ram_gb = virtual_memory().total / 1e9\n",
        "print('Your runtime has {:.1f} gigabytes of available RAM\\n'.format(ram_gb))\n",
        "\n",
        "if ram_gb < 20:\n",
        "  print('To enable a high-RAM runtime, select the Runtime > \"Change runtime type\"')\n",
        "  print('menu, and then select High-RAM in the Runtime shape dropdown. Then, ')\n",
        "  print('re-execute this cell.')\n",
        "else:\n",
        "  print('You are using a high-RAM runtime!')"
      ],
      "execution_count": 61,
      "outputs": [
        {
          "output_type": "stream",
          "text": [
            "Your runtime has 13.6 gigabytes of available RAM\n",
            "\n",
            "To enable a high-RAM runtime, select the Runtime > \"Change runtime type\"\n",
            "menu, and then select High-RAM in the Runtime shape dropdown. Then, \n",
            "re-execute this cell.\n"
          ],
          "name": "stdout"
        }
      ]
    },
    {
      "cell_type": "markdown",
      "metadata": {
        "id": "eyYSoiHYUYme"
      },
      "source": [
        "####라이브러리"
      ]
    },
    {
      "cell_type": "code",
      "metadata": {
        "id": "ggL_6wnsUMcS"
      },
      "source": [
        "import torch, torchvision\n",
        "from torchvision import datasets, models, transforms\n",
        "import torch.nn as nn\n",
        "import torch.nn.functional as F\n",
        "import torch.optim as optim\n",
        "from torch.utils.data import DataLoader\n",
        "import time\n",
        "\n",
        "import numpy as np\n",
        "import matplotlib.pyplot as plt\n",
        "import os\n",
        "\n",
        "from PIL import Image"
      ],
      "execution_count": 62,
      "outputs": []
    },
    {
      "cell_type": "code",
      "metadata": {
        "id": "wz3e6J7ZzIRW"
      },
      "source": [
        "# Device configuration\n",
        "device = torch.device('cuda' if torch.cuda.is_available() else 'cpu')\n",
        "\n",
        "batch_size = 10\n",
        "learning_rate = 0.001"
      ],
      "execution_count": 63,
      "outputs": []
    },
    {
      "cell_type": "code",
      "metadata": {
        "id": "PztGnm7M1JL6"
      },
      "source": [
        "torch.cuda.empty_cache()"
      ],
      "execution_count": 64,
      "outputs": []
    },
    {
      "cell_type": "markdown",
      "metadata": {
        "id": "YB0RK2mlWHkT"
      },
      "source": [
        "1. 데이터 정의"
      ]
    },
    {
      "cell_type": "markdown",
      "metadata": {
        "id": "4LVJ5GRpWLBb"
      },
      "source": [
        "#### A. Datasets and Preprocessing"
      ]
    },
    {
      "cell_type": "code",
      "metadata": {
        "id": "VUXw_uKUWA6M"
      },
      "source": [
        "#image transformation\n",
        "image_transforms = {\n",
        "    'train': transforms.Compose([\n",
        "        transforms.Resize((224, 224)),\n",
        "        transforms.RandomRotation(0.2),\n",
        "        transforms.RandomHorizontalFlip(),\n",
        "        transforms.ToTensor(),\n",
        "        transforms.Normalize([0.485, 0.456, 0.406],\n",
        "                             [0.229, 0.224, 0.225])                 \n",
        "    ]),\n",
        "    'test': transforms.Compose([\n",
        "        transforms.ToTensor(),\n",
        "        transforms.Resize((224, 224)),\n",
        "        transforms.Normalize([0.485, 0.456, 0.406],\n",
        "                             [0.229, 0.224, 0.225])\n",
        "    ])\n",
        "}"
      ],
      "execution_count": 65,
      "outputs": []
    },
    {
      "cell_type": "markdown",
      "metadata": {
        "id": "ah6C1oO-aALJ"
      },
      "source": [
        "####B. DataLoader"
      ]
    },
    {
      "cell_type": "code",
      "metadata": {
        "colab": {
          "base_uri": "https://localhost:8080/",
          "height": 35
        },
        "id": "V6GHEnyNZsuZ",
        "outputId": "f42ef0f0-b9db-4edc-faa5-cf8a54dbf53d"
      },
      "source": [
        "os.getcwd()"
      ],
      "execution_count": 66,
      "outputs": [
        {
          "output_type": "execute_result",
          "data": {
            "application/vnd.google.colaboratory.intrinsic+json": {
              "type": "string"
            },
            "text/plain": [
              "'/content'"
            ]
          },
          "metadata": {},
          "execution_count": 66
        }
      ]
    },
    {
      "cell_type": "code",
      "metadata": {
        "colab": {
          "base_uri": "https://localhost:8080/"
        },
        "id": "IS5sfCR2Z_RI",
        "outputId": "0cfdb679-e643-4a34-c9de-8fb496102073"
      },
      "source": [
        "from google.colab import drive\n",
        "drive.mount('/content/gdrive')"
      ],
      "execution_count": 67,
      "outputs": [
        {
          "output_type": "stream",
          "text": [
            "Drive already mounted at /content/gdrive; to attempt to forcibly remount, call drive.mount(\"/content/gdrive\", force_remount=True).\n"
          ],
          "name": "stdout"
        }
      ]
    },
    {
      "cell_type": "code",
      "metadata": {
        "colab": {
          "base_uri": "https://localhost:8080/"
        },
        "id": "f12thQWRaHdU",
        "outputId": "59f2096b-1873-4b30-a103-34f9ffc257c3"
      },
      "source": [
        "#The Path in which the data exists\n",
        "os.listdir('./gdrive/MyDrive/ColabNotebooks/data/')"
      ],
      "execution_count": 68,
      "outputs": [
        {
          "output_type": "execute_result",
          "data": {
            "text/plain": [
              "['tumor']"
            ]
          },
          "metadata": {},
          "execution_count": 68
        }
      ]
    },
    {
      "cell_type": "code",
      "metadata": {
        "colab": {
          "base_uri": "https://localhost:8080/"
        },
        "id": "311OA_E9a2TE",
        "outputId": "14b13952-593c-4a12-fcd3-e080804689cd"
      },
      "source": [
        "dataset = 'tumor'\n",
        "\n",
        "train_directory = './gdrive/MyDrive/ColabNotebooks/data/tumor/Training'\n",
        "\n",
        "test_directory = './gdrive/MyDrive/ColabNotebooks/data/tumor/Testing'\n",
        "\n",
        "#batch size\n",
        "batch_size = 32\n",
        "\n",
        "#Number of classes\n",
        "num_classes = len(os.listdir(train_directory))\n",
        "print(num_classes)\n",
        "\n",
        "data = {\n",
        "    'train': datasets.ImageFolder(root = train_directory, transform = image_transforms['train']),\n",
        "    'test': datasets.ImageFolder(root = test_directory, transform = image_transforms['test'])\n",
        "}\n",
        "#Mapping of the indices to the class names, in order to see the output classes of the test dataset images.\n",
        "idx_to_class = {v: x for x, v in data['train'].class_to_idx.items()}\n",
        "print(idx_to_class)\n",
        "\n",
        "#Size of each datasets.\n",
        "train_data_size = len(data['train'])\n",
        "test_data_size = len(data['test'])"
      ],
      "execution_count": 69,
      "outputs": [
        {
          "output_type": "stream",
          "text": [
            "4\n",
            "{0: 'glioma_tumor', 1: 'meningioma_tumor', 2: 'no_tumor', 3: 'pituitary_tumor'}\n"
          ],
          "name": "stdout"
        }
      ]
    },
    {
      "cell_type": "code",
      "metadata": {
        "colab": {
          "base_uri": "https://localhost:8080/"
        },
        "id": "wLdehGOcbsh_",
        "outputId": "ff334e9e-cb0a-4bd1-f5be-501009d0cabd"
      },
      "source": [
        "#The Size for each class in the train dataset\n",
        "print(len(os.listdir(train_directory + '/glioma_tumor')))\n",
        "print(len(os.listdir(train_directory + '/meningioma_tumor')))\n",
        "print(len(os.listdir(train_directory + '/no_tumor')))\n",
        "print(len(os.listdir(train_directory + '/pituitary_tumor')))"
      ],
      "execution_count": 70,
      "outputs": [
        {
          "output_type": "stream",
          "text": [
            "826\n",
            "822\n",
            "395\n",
            "827\n"
          ],
          "name": "stdout"
        }
      ]
    },
    {
      "cell_type": "code",
      "metadata": {
        "colab": {
          "base_uri": "https://localhost:8080/",
          "height": 170
        },
        "id": "4OXG5d86fgP5",
        "outputId": "54815c48-87ec-41bd-9622-8b736e354330"
      },
      "source": [
        "train_data_loader = DataLoader(data['train'], batch_size = batch_size, shuffle = True)\n",
        "test_data_loader = DataLoader(data['test'], batch_size = batch_size, shuffle = False)\n",
        "\n",
        "def showimage(img):\n",
        "  img = img / 2 + 0.5\n",
        "  numpy_image = img.numpy()\n",
        "  plt.imshow(np.transpose(numpy_image, (1, 2, 0)))\n",
        "\n",
        "trainloader_1 = DataLoader(data['train'], batch_size = 4, shuffle =True)\n",
        "dataiter = iter(trainloader_1)\n",
        "images, labels = dataiter.next()\n",
        "\n",
        "showimage(torchvision.utils.make_grid(images))\n",
        "print(' '.join('%5s' % list(idx_to_class.values())[labels[j]] for j in range(4)))"
      ],
      "execution_count": 71,
      "outputs": [
        {
          "output_type": "stream",
          "text": [
            "Clipping input data to the valid range for imshow with RGB data ([0..1] for floats or [0..255] for integers).\n"
          ],
          "name": "stderr"
        },
        {
          "output_type": "stream",
          "text": [
            "meningioma_tumor glioma_tumor pituitary_tumor meningioma_tumor\n"
          ],
          "name": "stdout"
        },
        {
          "output_type": "display_data",
          "data": {
            "image/png": "[encoded data removed]",
            "text/plain": [
              "<Figure size 432x288 with 1 Axes>"
            ]
          },
          "metadata": {
            "needs_background": "light"
          }
        }
      ]
    },
    {
      "cell_type": "code",
      "metadata": {
        "id": "6ASmrGnphjdx"
      },
      "source": [
        "del trainloader_1"
      ],
      "execution_count": 72,
      "outputs": []
    },
    {
      "cell_type": "code",
      "metadata": {
        "colab": {
          "base_uri": "https://localhost:8080/"
        },
        "id": "2l2sJh7niHXp",
        "outputId": "086e4e09-7697-419a-8c68-a2118be8e99c"
      },
      "source": [
        "#checking the size of the datasets\n",
        "train_data_size, test_data_size"
      ],
      "execution_count": 73,
      "outputs": [
        {
          "output_type": "execute_result",
          "data": {
            "text/plain": [
              "(2870, 394)"
            ]
          },
          "metadata": {},
          "execution_count": 73
        }
      ]
    },
    {
      "cell_type": "markdown",
      "metadata": {
        "id": "zEsgMIUliodn"
      },
      "source": [
        "# **2. 모델**"
      ]
    },
    {
      "cell_type": "markdown",
      "metadata": {
        "id": "onl_aurZidKc"
      },
      "source": [
        "####My Model implementation take"
      ]
    },
    {
      "cell_type": "code",
      "metadata": {
        "colab": {
          "base_uri": "https://localhost:8080/"
        },
        "id": "D4Ja8e7liNQI",
        "outputId": "64ae4981-f083-40d8-c69d-d8a065f92b5c"
      },
      "source": [
        "resnet_model = models.resnet50(pretrained=True)\n",
        "for param in resnet_model.parameters():\n",
        "  param.requires_grad = True\n",
        "\n",
        "#get the input of the fully connected layer\n",
        "n_inputs = resnet_model.fc.in_features\n",
        "\n",
        "resnet_model.fc = nn.Sequential(nn.Linear(n_inputs, 64),\n",
        "                                nn.SELU(),\n",
        "                                nn.Dropout(p=0.6),\n",
        "                                nn.Linear(64, 64),\n",
        "                                nn.SELU(),\n",
        "                                nn.Dropout(p=0.5),\n",
        "                                nn.Linear(64, num_classes),\n",
        "                                nn.LogSoftmax(dim=1))\n",
        "\n",
        "for name, child in resnet_model.named_children():\n",
        "  for name2, params in child.named_parameters():\n",
        "    params.requires_grad = True\n",
        "\n",
        "resnet_model.to(device)\n",
        "\n",
        "resnet_model"
      ],
      "execution_count": 74,
      "outputs": [
        {
          "output_type": "execute_result",
          "data": {
            "text/plain": [
              "ResNet(\n",
              "  (conv1): Conv2d(3, 64, kernel_size=(7, 7), stride=(2, 2), padding=(3, 3), bias=False)\n",
              "  (bn1): BatchNorm2d(64, eps=1e-05, momentum=0.1, affine=True, track_running_stats=True)\n",
              "  (relu): ReLU(inplace=True)\n",
              "  (maxpool): MaxPool2d(kernel_size=3, stride=2, padding=1, dilation=1, ceil_mode=False)\n",
              "  (layer1): Sequential(\n",
              "    (0): Bottleneck(\n",
              "      (conv1): Conv2d(64, 64, kernel_size=(1, 1), stride=(1, 1), bias=False)\n",
              "      (bn1): BatchNorm2d(64, eps=1e-05, momentum=0.1, affine=True, track_running_stats=True)\n",
              "      (conv2): Conv2d(64, 64, kernel_size=(3, 3), stride=(1, 1), padding=(1, 1), bias=False)\n",
              "      (bn2): BatchNorm2d(64, eps=1e-05, momentum=0.1, affine=True, track_running_stats=True)\n",
              "      (conv3): Conv2d(64, 256, kernel_size=(1, 1), stride=(1, 1), bias=False)\n",
              "      (bn3): BatchNorm2d(256, eps=1e-05, momentum=0.1, affine=True, track_running_stats=True)\n",
              "      (relu): ReLU(inplace=True)\n",
              "      (downsample): Sequential(\n",
              "        (0): Conv2d(64, 256, kernel_size=(1, 1), stride=(1, 1), bias=False)\n",
              "        (1): BatchNorm2d(256, eps=1e-05, momentum=0.1, affine=True, track_running_stats=True)\n",
              "      )\n",
              "    )\n",
              "    (1): Bottleneck(\n",
              "      (conv1): Conv2d(256, 64, kernel_size=(1, 1), stride=(1, 1), bias=False)\n",
              "      (bn1): BatchNorm2d(64, eps=1e-05, momentum=0.1, affine=True, track_running_stats=True)\n",
              "      (conv2): Conv2d(64, 64, kernel_size=(3, 3), stride=(1, 1), padding=(1, 1), bias=False)\n",
              "      (bn2): BatchNorm2d(64, eps=1e-05, momentum=0.1, affine=True, track_running_stats=True)\n",
              "      (conv3): Conv2d(64, 256, kernel_size=(1, 1), stride=(1, 1), bias=False)\n",
              "      (bn3): BatchNorm2d(256, eps=1e-05, momentum=0.1, affine=True, track_running_stats=True)\n",
              "      (relu): ReLU(inplace=True)\n",
              "    )\n",
              "    (2): Bottleneck(\n",
              "      (conv1): Conv2d(256, 64, kernel_size=(1, 1), stride=(1, 1), bias=False)\n",
              "      (bn1): BatchNorm2d(64, eps=1e-05, momentum=0.1, affine=True, track_running_stats=True)\n",
              "      (conv2): Conv2d(64, 64, kernel_size=(3, 3), stride=(1, 1), padding=(1, 1), bias=False)\n",
              "      (bn2): BatchNorm2d(64, eps=1e-05, momentum=0.1, affine=True, track_running_stats=True)\n",
              "      (conv3): Conv2d(64, 256, kernel_size=(1, 1), stride=(1, 1), bias=False)\n",
              "      (bn3): BatchNorm2d(256, eps=1e-05, momentum=0.1, affine=True, track_running_stats=True)\n",
              "      (relu): ReLU(inplace=True)\n",
              "    )\n",
              "  )\n",
              "  (layer2): Sequential(\n",
              "    (0): Bottleneck(\n",
              "      (conv1): Conv2d(256, 128, kernel_size=(1, 1), stride=(1, 1), bias=False)\n",
              "      (bn1): BatchNorm2d(128, eps=1e-05, momentum=0.1, affine=True, track_running_stats=True)\n",
              "      (conv2): Conv2d(128, 128, kernel_size=(3, 3), stride=(2, 2), padding=(1, 1), bias=False)\n",
              "      (bn2): BatchNorm2d(128, eps=1e-05, momentum=0.1, affine=True, track_running_stats=True)\n",
              "      (conv3): Conv2d(128, 512, kernel_size=(1, 1), stride=(1, 1), bias=False)\n",
              "      (bn3): BatchNorm2d(512, eps=1e-05, momentum=0.1, affine=True, track_running_stats=True)\n",
              "      (relu): ReLU(inplace=True)\n",
              "      (downsample): Sequential(\n",
              "        (0): Conv2d(256, 512, kernel_size=(1, 1), stride=(2, 2), bias=False)\n",
              "        (1): BatchNorm2d(512, eps=1e-05, momentum=0.1, affine=True, track_running_stats=True)\n",
              "      )\n",
              "    )\n",
              "    (1): Bottleneck(\n",
              "      (conv1): Conv2d(512, 128, kernel_size=(1, 1), stride=(1, 1), bias=False)\n",
              "      (bn1): BatchNorm2d(128, eps=1e-05, momentum=0.1, affine=True, track_running_stats=True)\n",
              "      (conv2): Conv2d(128, 128, kernel_size=(3, 3), stride=(1, 1), padding=(1, 1), bias=False)\n",
              "      (bn2): BatchNorm2d(128, eps=1e-05, momentum=0.1, affine=True, track_running_stats=True)\n",
              "      (conv3): Conv2d(128, 512, kernel_size=(1, 1), stride=(1, 1), bias=False)\n",
              "      (bn3): BatchNorm2d(512, eps=1e-05, momentum=0.1, affine=True, track_running_stats=True)\n",
              "      (relu): ReLU(inplace=True)\n",
              "    )\n",
              "    (2): Bottleneck(\n",
              "      (conv1): Conv2d(512, 128, kernel_size=(1, 1), stride=(1, 1), bias=False)\n",
              "      (bn1): BatchNorm2d(128, eps=1e-05, momentum=0.1, affine=True, track_running_stats=True)\n",
              "      (conv2): Conv2d(128, 128, kernel_size=(3, 3), stride=(1, 1), padding=(1, 1), bias=False)\n",
              "      (bn2): BatchNorm2d(128, eps=1e-05, momentum=0.1, affine=True, track_running_stats=True)\n",
              "      (conv3): Conv2d(128, 512, kernel_size=(1, 1), stride=(1, 1), bias=False)\n",
              "      (bn3): BatchNorm2d(512, eps=1e-05, momentum=0.1, affine=True, track_running_stats=True)\n",
              "      (relu): ReLU(inplace=True)\n",
              "    )\n",
              "    (3): Bottleneck(\n",
              "      (conv1): Conv2d(512, 128, kernel_size=(1, 1), stride=(1, 1), bias=False)\n",
              "      (bn1): BatchNorm2d(128, eps=1e-05, momentum=0.1, affine=True, track_running_stats=True)\n",
              "      (conv2): Conv2d(128, 128, kernel_size=(3, 3), stride=(1, 1), padding=(1, 1), bias=False)\n",
              "      (bn2): BatchNorm2d(128, eps=1e-05, momentum=0.1, affine=True, track_running_stats=True)\n",
              "      (conv3): Conv2d(128, 512, kernel_size=(1, 1), stride=(1, 1), bias=False)\n",
              "      (bn3): BatchNorm2d(512, eps=1e-05, momentum=0.1, affine=True, track_running_stats=True)\n",
              "      (relu): ReLU(inplace=True)\n",
              "    )\n",
              "  )\n",
              "  (layer3): Sequential(\n",
              "    (0): Bottleneck(\n",
              "      (conv1): Conv2d(512, 256, kernel_size=(1, 1), stride=(1, 1), bias=False)\n",
              "      (bn1): BatchNorm2d(256, eps=1e-05, momentum=0.1, affine=True, track_running_stats=True)\n",
              "      (conv2): Conv2d(256, 256, kernel_size=(3, 3), stride=(2, 2), padding=(1, 1), bias=False)\n",
              "      (bn2): BatchNorm2d(256, eps=1e-05, momentum=0.1, affine=True, track_running_stats=True)\n",
              "      (conv3): Conv2d(256, 1024, kernel_size=(1, 1), stride=(1, 1), bias=False)\n",
              "      (bn3): BatchNorm2d(1024, eps=1e-05, momentum=0.1, affine=True, track_running_stats=True)\n",
              "      (relu): ReLU(inplace=True)\n",
              "      (downsample): Sequential(\n",
              "        (0): Conv2d(512, 1024, kernel_size=(1, 1), stride=(2, 2), bias=False)\n",
              "        (1): BatchNorm2d(1024, eps=1e-05, momentum=0.1, affine=True, track_running_stats=True)\n",
              "      )\n",
              "    )\n",
              "    (1): Bottleneck(\n",
              "      (conv1): Conv2d(1024, 256, kernel_size=(1, 1), stride=(1, 1), bias=False)\n",
              "      (bn1): BatchNorm2d(256, eps=1e-05, momentum=0.1, affine=True, track_running_stats=True)\n",
              "      (conv2): Conv2d(256, 256, kernel_size=(3, 3), stride=(1, 1), padding=(1, 1), bias=False)\n",
              "      (bn2): BatchNorm2d(256, eps=1e-05, momentum=0.1, affine=True, track_running_stats=True)\n",
              "      (conv3): Conv2d(256, 1024, kernel_size=(1, 1), stride=(1, 1), bias=False)\n",
              "      (bn3): BatchNorm2d(1024, eps=1e-05, momentum=0.1, affine=True, track_running_stats=True)\n",
              "      (relu): ReLU(inplace=True)\n",
              "    )\n",
              "    (2): Bottleneck(\n",
              "      (conv1): Conv2d(1024, 256, kernel_size=(1, 1), stride=(1, 1), bias=False)\n",
              "      (bn1): BatchNorm2d(256, eps=1e-05, momentum=0.1, affine=True, track_running_stats=True)\n",
              "      (conv2): Conv2d(256, 256, kernel_size=(3, 3), stride=(1, 1), padding=(1, 1), bias=False)\n",
              "      (bn2): BatchNorm2d(256, eps=1e-05, momentum=0.1, affine=True, track_running_stats=True)\n",
              "      (conv3): Conv2d(256, 1024, kernel_size=(1, 1), stride=(1, 1), bias=False)\n",
              "      (bn3): BatchNorm2d(1024, eps=1e-05, momentum=0.1, affine=True, track_running_stats=True)\n",
              "      (relu): ReLU(inplace=True)\n",
              "    )\n",
              "    (3): Bottleneck(\n",
              "      (conv1): Conv2d(1024, 256, kernel_size=(1, 1), stride=(1, 1), bias=False)\n",
              "      (bn1): BatchNorm2d(256, eps=1e-05, momentum=0.1, affine=True, track_running_stats=True)\n",
              "      (conv2): Conv2d(256, 256, kernel_size=(3, 3), stride=(1, 1), padding=(1, 1), bias=False)\n",
              "      (bn2): BatchNorm2d(256, eps=1e-05, momentum=0.1, affine=True, track_running_stats=True)\n",
              "      (conv3): Conv2d(256, 1024, kernel_size=(1, 1), stride=(1, 1), bias=False)\n",
              "      (bn3): BatchNorm2d(1024, eps=1e-05, momentum=0.1, affine=True, track_running_stats=True)\n",
              "      (relu): ReLU(inplace=True)\n",
              "    )\n",
              "    (4): Bottleneck(\n",
              "      (conv1): Conv2d(1024, 256, kernel_size=(1, 1), stride=(1, 1), bias=False)\n",
              "      (bn1): BatchNorm2d(256, eps=1e-05, momentum=0.1, affine=True, track_running_stats=True)\n",
              "      (conv2): Conv2d(256, 256, kernel_size=(3, 3), stride=(1, 1), padding=(1, 1), bias=False)\n",
              "      (bn2): BatchNorm2d(256, eps=1e-05, momentum=0.1, affine=True, track_running_stats=True)\n",
              "      (conv3): Conv2d(256, 1024, kernel_size=(1, 1), stride=(1, 1), bias=False)\n",
              "      (bn3): BatchNorm2d(1024, eps=1e-05, momentum=0.1, affine=True, track_running_stats=True)\n",
              "      (relu): ReLU(inplace=True)\n",
              "    )\n",
              "    (5): Bottleneck(\n",
              "      (conv1): Conv2d(1024, 256, kernel_size=(1, 1), stride=(1, 1), bias=False)\n",
              "      (bn1): BatchNorm2d(256, eps=1e-05, momentum=0.1, affine=True, track_running_stats=True)\n",
              "      (conv2): Conv2d(256, 256, kernel_size=(3, 3), stride=(1, 1), padding=(1, 1), bias=False)\n",
              "      (bn2): BatchNorm2d(256, eps=1e-05, momentum=0.1, affine=True, track_running_stats=True)\n",
              "      (conv3): Conv2d(256, 1024, kernel_size=(1, 1), stride=(1, 1), bias=False)\n",
              "      (bn3): BatchNorm2d(1024, eps=1e-05, momentum=0.1, affine=True, track_running_stats=True)\n",
              "      (relu): ReLU(inplace=True)\n",
              "    )\n",
              "  )\n",
              "  (layer4): Sequential(\n",
              "    (0): Bottleneck(\n",
              "      (conv1): Conv2d(1024, 512, kernel_size=(1, 1), stride=(1, 1), bias=False)\n",
              "      (bn1): BatchNorm2d(512, eps=1e-05, momentum=0.1, affine=True, track_running_stats=True)\n",
              "      (conv2): Conv2d(512, 512, kernel_size=(3, 3), stride=(2, 2), padding=(1, 1), bias=False)\n",
              "      (bn2): BatchNorm2d(512, eps=1e-05, momentum=0.1, affine=True, track_running_stats=True)\n",
              "      (conv3): Conv2d(512, 2048, kernel_size=(1, 1), stride=(1, 1), bias=False)\n",
              "      (bn3): BatchNorm2d(2048, eps=1e-05, momentum=0.1, affine=True, track_running_stats=True)\n",
              "      (relu): ReLU(inplace=True)\n",
              "      (downsample): Sequential(\n",
              "        (0): Conv2d(1024, 2048, kernel_size=(1, 1), stride=(2, 2), bias=False)\n",
              "        (1): BatchNorm2d(2048, eps=1e-05, momentum=0.1, affine=True, track_running_stats=True)\n",
              "      )\n",
              "    )\n",
              "    (1): Bottleneck(\n",
              "      (conv1): Conv2d(2048, 512, kernel_size=(1, 1), stride=(1, 1), bias=False)\n",
              "      (bn1): BatchNorm2d(512, eps=1e-05, momentum=0.1, affine=True, track_running_stats=True)\n",
              "      (conv2): Conv2d(512, 512, kernel_size=(3, 3), stride=(1, 1), padding=(1, 1), bias=False)\n",
              "      (bn2): BatchNorm2d(512, eps=1e-05, momentum=0.1, affine=True, track_running_stats=True)\n",
              "      (conv3): Conv2d(512, 2048, kernel_size=(1, 1), stride=(1, 1), bias=False)\n",
              "      (bn3): BatchNorm2d(2048, eps=1e-05, momentum=0.1, affine=True, track_running_stats=True)\n",
              "      (relu): ReLU(inplace=True)\n",
              "    )\n",
              "    (2): Bottleneck(\n",
              "      (conv1): Conv2d(2048, 512, kernel_size=(1, 1), stride=(1, 1), bias=False)\n",
              "      (bn1): BatchNorm2d(512, eps=1e-05, momentum=0.1, affine=True, track_running_stats=True)\n",
              "      (conv2): Conv2d(512, 512, kernel_size=(3, 3), stride=(1, 1), padding=(1, 1), bias=False)\n",
              "      (bn2): BatchNorm2d(512, eps=1e-05, momentum=0.1, affine=True, track_running_stats=True)\n",
              "      (conv3): Conv2d(512, 2048, kernel_size=(1, 1), stride=(1, 1), bias=False)\n",
              "      (bn3): BatchNorm2d(2048, eps=1e-05, momentum=0.1, affine=True, track_running_stats=True)\n",
              "      (relu): ReLU(inplace=True)\n",
              "    )\n",
              "  )\n",
              "  (avgpool): AdaptiveAvgPool2d(output_size=(1, 1))\n",
              "  (fc): Sequential(\n",
              "    (0): Linear(in_features=2048, out_features=64, bias=True)\n",
              "    (1): SELU()\n",
              "    (2): Dropout(p=0.6, inplace=False)\n",
              "    (3): Linear(in_features=64, out_features=64, bias=True)\n",
              "    (4): SELU()\n",
              "    (5): Dropout(p=0.5, inplace=False)\n",
              "    (6): Linear(in_features=64, out_features=4, bias=True)\n",
              "    (7): LogSoftmax(dim=1)\n",
              "  )\n",
              ")"
            ]
          },
          "metadata": {},
          "execution_count": 74
        }
      ]
    },
    {
      "cell_type": "code",
      "metadata": {
        "id": "9vKmISaRzSoy"
      },
      "source": [
        "#Intialize Criterion and Optimizer\n",
        "criterion = nn.CrossEntropyLoss().to(device)\n",
        "optimizer = torch.optim.SGD(resnet_model.parameters(), lr=0.001, momentum = 0.9, weight_decay=1e-4)"
      ],
      "execution_count": 75,
      "outputs": []
    },
    {
      "cell_type": "code",
      "metadata": {
        "colab": {
          "base_uri": "https://localhost:8080/"
        },
        "id": "zZBefx3Zz7Nx",
        "outputId": "aae7407f-3a7b-4f23-ba83-984a99919fc5"
      },
      "source": [
        "iter(train_data_loader).__next__()"
      ],
      "execution_count": 76,
      "outputs": [
        {
          "output_type": "execute_result",
          "data": {
            "text/plain": [
              "[tensor([[[[-2.1179, -2.1179, -2.1179,  ..., -2.1179, -2.1179, -2.1179],\n",
              "           [-2.1179, -2.1179, -2.1179,  ..., -2.1179, -2.1179, -2.1179],\n",
              "           [-2.1179, -2.1179, -2.1179,  ..., -2.1179, -2.1179, -2.1179],\n",
              "           ...,\n",
              "           [-2.1179, -2.1179, -2.1179,  ..., -2.1179, -2.1179, -2.1179],\n",
              "           [-2.1179, -2.1179, -2.1179,  ..., -2.1179, -2.1179, -2.1179],\n",
              "           [-2.1179, -2.1179, -2.1179,  ..., -2.1179, -2.1179, -2.1179]],\n",
              " \n",
              "          [[-2.0357, -2.0357, -2.0357,  ..., -2.0357, -2.0357, -2.0357],\n",
              "           [-2.0357, -2.0357, -2.0357,  ..., -2.0357, -2.0357, -2.0357],\n",
              "           [-2.0357, -2.0357, -2.0357,  ..., -2.0357, -2.0357, -2.0357],\n",
              "           ...,\n",
              "           [-2.0357, -2.0357, -2.0357,  ..., -2.0357, -2.0357, -2.0357],\n",
              "           [-2.0357, -2.0357, -2.0357,  ..., -2.0357, -2.0357, -2.0357],\n",
              "           [-2.0357, -2.0357, -2.0357,  ..., -2.0357, -2.0357, -2.0357]],\n",
              " \n",
              "          [[-1.8044, -1.8044, -1.8044,  ..., -1.8044, -1.8044, -1.8044],\n",
              "           [-1.8044, -1.8044, -1.8044,  ..., -1.8044, -1.8044, -1.8044],\n",
              "           [-1.8044, -1.8044, -1.8044,  ..., -1.8044, -1.8044, -1.8044],\n",
              "           ...,\n",
              "           [-1.8044, -1.8044, -1.8044,  ..., -1.8044, -1.8044, -1.8044],\n",
              "           [-1.8044, -1.8044, -1.8044,  ..., -1.8044, -1.8044, -1.8044],\n",
              "           [-1.8044, -1.8044, -1.8044,  ..., -1.8044, -1.8044, -1.8044]]],\n",
              " \n",
              " \n",
              "         [[[-1.7925, -1.8097, -1.8097,  ..., -1.7925, -1.7925, -1.7925],\n",
              "           [-1.8268, -1.8268, -1.8268,  ..., -1.8268, -1.8268, -1.8268],\n",
              "           [-1.7925, -1.7925, -1.7925,  ..., -1.8097, -1.8097, -1.8097],\n",
              "           ...,\n",
              "           [-1.6213, -1.6042, -1.5528,  ..., -1.6555, -1.6555, -1.6555],\n",
              "           [-1.6384, -1.5699, -1.4843,  ..., -1.6727, -1.6898, -1.6727],\n",
              "           [-1.6042, -1.5528, -1.5014,  ..., -1.6555, -1.6727, -1.6727]],\n",
              " \n",
              "          [[-1.7031, -1.7206, -1.7206,  ..., -1.7031, -1.7031, -1.7031],\n",
              "           [-1.7381, -1.7381, -1.7381,  ..., -1.7381, -1.7381, -1.7381],\n",
              "           [-1.7031, -1.7031, -1.7031,  ..., -1.7206, -1.7206, -1.7206],\n",
              "           ...,\n",
              "           [-1.5280, -1.5105, -1.4580,  ..., -1.5630, -1.5630, -1.5630],\n",
              "           [-1.5455, -1.4755, -1.3880,  ..., -1.5805, -1.5980, -1.5805],\n",
              "           [-1.5105, -1.4580, -1.4055,  ..., -1.5630, -1.5805, -1.5805]],\n",
              " \n",
              "          [[-1.4733, -1.4907, -1.4907,  ..., -1.4733, -1.4733, -1.4733],\n",
              "           [-1.5081, -1.5081, -1.5081,  ..., -1.5081, -1.5081, -1.5081],\n",
              "           [-1.4733, -1.4733, -1.4733,  ..., -1.4907, -1.4907, -1.4907],\n",
              "           ...,\n",
              "           [-1.2990, -1.2816, -1.2293,  ..., -1.3339, -1.3339, -1.3339],\n",
              "           [-1.3164, -1.2467, -1.1596,  ..., -1.3513, -1.3687, -1.3513],\n",
              "           [-1.2816, -1.2293, -1.1770,  ..., -1.3339, -1.3513, -1.3513]]],\n",
              " \n",
              " \n",
              "         [[[-2.1179, -2.1179, -2.1179,  ..., -2.1179, -2.1179, -2.1179],\n",
              "           [-2.1179, -2.1179, -2.1179,  ..., -2.1179, -2.1179, -2.1179],\n",
              "           [-2.0837, -2.0837, -2.0837,  ..., -2.1179, -2.1179, -2.1179],\n",
              "           ...,\n",
              "           [-2.0837, -2.0837, -2.0837,  ..., -2.1179, -2.1179, -2.1179],\n",
              "           [-2.1179, -2.1179, -2.1179,  ..., -2.1179, -2.1179, -2.1179],\n",
              "           [-2.1179, -2.1179, -2.1179,  ..., -2.1179, -2.1179, -2.1179]],\n",
              " \n",
              "          [[-2.0357, -2.0357, -2.0357,  ..., -2.0357, -2.0357, -2.0357],\n",
              "           [-2.0357, -2.0357, -2.0357,  ..., -2.0357, -2.0357, -2.0357],\n",
              "           [-2.0007, -2.0007, -2.0007,  ..., -2.0357, -2.0357, -2.0357],\n",
              "           ...,\n",
              "           [-2.0007, -2.0007, -2.0007,  ..., -2.0357, -2.0357, -2.0357],\n",
              "           [-2.0357, -2.0357, -2.0357,  ..., -2.0357, -2.0357, -2.0357],\n",
              "           [-2.0357, -2.0357, -2.0357,  ..., -2.0357, -2.0357, -2.0357]],\n",
              " \n",
              "          [[-1.8044, -1.8044, -1.8044,  ..., -1.8044, -1.8044, -1.8044],\n",
              "           [-1.8044, -1.8044, -1.8044,  ..., -1.8044, -1.8044, -1.8044],\n",
              "           [-1.7696, -1.7696, -1.7696,  ..., -1.8044, -1.8044, -1.8044],\n",
              "           ...,\n",
              "           [-1.7696, -1.7696, -1.7696,  ..., -1.8044, -1.8044, -1.8044],\n",
              "           [-1.8044, -1.8044, -1.8044,  ..., -1.8044, -1.8044, -1.8044],\n",
              "           [-1.8044, -1.8044, -1.8044,  ..., -1.8044, -1.8044, -1.8044]]],\n",
              " \n",
              " \n",
              "         ...,\n",
              " \n",
              " \n",
              "         [[[-2.1179, -2.1179, -2.1179,  ..., -2.1179, -2.1179, -2.1179],\n",
              "           [-2.1179, -2.1179, -2.1179,  ..., -2.0837, -2.0837, -2.0837],\n",
              "           [-2.1179, -2.1179, -2.1179,  ..., -2.0665, -2.0665, -2.0665],\n",
              "           ...,\n",
              "           [-2.1179, -2.1179, -2.1179,  ..., -2.0494, -2.0494, -2.0494],\n",
              "           [-2.1179, -2.1179, -2.1179,  ..., -2.0665, -2.0665, -2.0665],\n",
              "           [-2.1179, -2.1179, -2.1179,  ..., -2.1008, -2.1008, -2.1008]],\n",
              " \n",
              "          [[-2.0357, -2.0357, -2.0357,  ..., -2.0357, -2.0357, -2.0357],\n",
              "           [-2.0357, -2.0357, -2.0357,  ..., -2.0007, -2.0007, -2.0007],\n",
              "           [-2.0357, -2.0357, -2.0357,  ..., -1.9832, -1.9832, -1.9832],\n",
              "           ...,\n",
              "           [-2.0357, -2.0357, -2.0357,  ..., -1.9657, -1.9657, -1.9657],\n",
              "           [-2.0357, -2.0357, -2.0357,  ..., -1.9832, -1.9832, -1.9832],\n",
              "           [-2.0357, -2.0357, -2.0357,  ..., -2.0182, -2.0182, -2.0182]],\n",
              " \n",
              "          [[-1.8044, -1.8044, -1.8044,  ..., -1.8044, -1.8044, -1.8044],\n",
              "           [-1.8044, -1.8044, -1.8044,  ..., -1.7696, -1.7696, -1.7696],\n",
              "           [-1.8044, -1.8044, -1.8044,  ..., -1.7522, -1.7522, -1.7522],\n",
              "           ...,\n",
              "           [-1.8044, -1.8044, -1.8044,  ..., -1.7347, -1.7347, -1.7347],\n",
              "           [-1.8044, -1.8044, -1.8044,  ..., -1.7522, -1.7522, -1.7522],\n",
              "           [-1.8044, -1.8044, -1.8044,  ..., -1.7870, -1.7870, -1.7870]]],\n",
              " \n",
              " \n",
              "         [[[-2.1179, -2.1179, -2.1179,  ..., -2.1179, -2.1179, -2.1179],\n",
              "           [-2.1179, -2.1179, -2.1179,  ..., -2.1179, -2.1179, -2.1179],\n",
              "           [-2.1179, -2.1179, -2.1179,  ..., -2.1179, -2.1179, -2.1179],\n",
              "           ...,\n",
              "           [-2.1179, -2.1179, -2.1179,  ..., -2.1179, -2.1179, -2.1179],\n",
              "           [-2.1179, -2.1179, -2.1179,  ..., -2.1179, -2.1179, -2.1179],\n",
              "           [-2.1179, -2.1179, -2.1179,  ..., -2.1179, -2.1179, -2.1179]],\n",
              " \n",
              "          [[-2.0357, -2.0357, -2.0357,  ..., -2.0357, -2.0357, -2.0357],\n",
              "           [-2.0357, -2.0357, -2.0357,  ..., -2.0357, -2.0357, -2.0357],\n",
              "           [-2.0357, -2.0357, -2.0357,  ..., -2.0357, -2.0357, -2.0357],\n",
              "           ...,\n",
              "           [-2.0357, -2.0357, -2.0357,  ..., -2.0357, -2.0357, -2.0357],\n",
              "           [-2.0357, -2.0357, -2.0357,  ..., -2.0357, -2.0357, -2.0357],\n",
              "           [-2.0357, -2.0357, -2.0357,  ..., -2.0357, -2.0357, -2.0357]],\n",
              " \n",
              "          [[-1.8044, -1.8044, -1.8044,  ..., -1.8044, -1.8044, -1.8044],\n",
              "           [-1.8044, -1.8044, -1.8044,  ..., -1.8044, -1.8044, -1.8044],\n",
              "           [-1.8044, -1.8044, -1.8044,  ..., -1.8044, -1.8044, -1.8044],\n",
              "           ...,\n",
              "           [-1.8044, -1.8044, -1.8044,  ..., -1.8044, -1.8044, -1.8044],\n",
              "           [-1.8044, -1.8044, -1.8044,  ..., -1.8044, -1.8044, -1.8044],\n",
              "           [-1.8044, -1.8044, -1.8044,  ..., -1.8044, -1.8044, -1.8044]]],\n",
              " \n",
              " \n",
              "         [[[-2.1179, -2.1179, -2.1179,  ..., -2.1179, -2.1179, -2.1179],\n",
              "           [-2.1179, -2.1179, -2.1179,  ..., -2.1179, -2.1179, -2.1179],\n",
              "           [-2.1179, -2.1179, -2.1179,  ..., -2.1179, -2.1179, -2.1179],\n",
              "           ...,\n",
              "           [-2.1179, -2.1179, -2.1179,  ..., -2.1179, -2.1179, -2.1179],\n",
              "           [-2.1179, -2.1179, -2.1179,  ..., -2.1179, -2.1179, -2.1179],\n",
              "           [-2.1179, -2.1179, -2.1179,  ..., -2.1179, -2.1179, -2.1179]],\n",
              " \n",
              "          [[-2.0357, -2.0357, -2.0357,  ..., -2.0357, -2.0357, -2.0357],\n",
              "           [-2.0357, -2.0357, -2.0357,  ..., -2.0357, -2.0357, -2.0357],\n",
              "           [-2.0357, -2.0357, -2.0357,  ..., -2.0357, -2.0357, -2.0357],\n",
              "           ...,\n",
              "           [-2.0357, -2.0357, -2.0357,  ..., -2.0357, -2.0357, -2.0357],\n",
              "           [-2.0357, -2.0357, -2.0357,  ..., -2.0357, -2.0357, -2.0357],\n",
              "           [-2.0357, -2.0357, -2.0357,  ..., -2.0357, -2.0357, -2.0357]],\n",
              " \n",
              "          [[-1.8044, -1.8044, -1.8044,  ..., -1.8044, -1.8044, -1.8044],\n",
              "           [-1.8044, -1.8044, -1.8044,  ..., -1.8044, -1.8044, -1.8044],\n",
              "           [-1.8044, -1.8044, -1.8044,  ..., -1.8044, -1.8044, -1.8044],\n",
              "           ...,\n",
              "           [-1.8044, -1.8044, -1.8044,  ..., -1.8044, -1.8044, -1.8044],\n",
              "           [-1.8044, -1.8044, -1.8044,  ..., -1.8044, -1.8044, -1.8044],\n",
              "           [-1.8044, -1.8044, -1.8044,  ..., -1.8044, -1.8044, -1.8044]]]]),\n",
              " tensor([1, 1, 0, 1, 2, 2, 2, 3, 3, 0, 1, 1, 1, 3, 0, 0, 0, 1, 0, 1, 0, 3, 1, 1,\n",
              "         0, 2, 0, 1, 0, 1, 0, 2])]"
            ]
          },
          "metadata": {},
          "execution_count": 76
        }
      ]
    },
    {
      "cell_type": "code",
      "metadata": {
        "id": "xkDumwjp0pnE"
      },
      "source": [
        "def train(model, loss_criterion, optimizer, epochs):\n",
        "  start = time.time()           #시작 time 재기!\n",
        "  history = []\n",
        "  best_acc = 0.0                #Best Accuracy Value\n",
        "\n",
        "  for epoch in range(epochs):\n",
        "    epoch_start = time.time()\n",
        "    print(\"Epoch: {}/{}\".format(epoch+1, epochs))\n",
        "\n",
        "    #Model to Training Mode!\n",
        "    model.train()\n",
        "\n",
        "    #Initialize Loss and Accuracy\n",
        "    train_loss = 0.0\n",
        "    train_acc = 0.0 \n",
        "\n",
        "    for i, (inputs, labels) in enumerate(train_data_loader):\n",
        "      inputs = inputs.to(device)\n",
        "      labels = labels.to(device)\n",
        "\n",
        "      optimizer.zero_grad()\n",
        "      #Forward Pass\n",
        "      outputs = model(inputs)\n",
        "\n",
        "      #Loss Computation\n",
        "      loss = loss_criterion(outputs, labels)\n",
        "\n",
        "      #Back Propagation\n",
        "      loss.backward()\n",
        "\n",
        "      #Update the parameters\n",
        "      optimizer.step()\n",
        "\n",
        "      train_loss += loss.item() * inputs.size(0)\n",
        "      \n",
        "      #Computing the accuracy(다소 헷갈리는 파트, 다시 확인!!!)\n",
        "      ret, predictions = torch.max(outputs.data, 1)\n",
        "      correct_counts = predictions.eq(labels.data.view_as(predictions))\n",
        "\n",
        "      acc = torch.mean(correct_counts.type(torch.FloatTensor))\n",
        "\n",
        "      train_acc += acc.item() * inputs.size(0)\n",
        "\n",
        "      if i % 50 == 0 and i != 0:\n",
        "        print(\"Batch Number: {:03d}, Training: Loss: {:.4f}, Accuracy: {:.4f}\".format(i, loss.item(), acc.item()))\n",
        "\n",
        "    avg_train_loss = train_loss / train_data_size\n",
        "    avg_train_acc = train_acc / train_data_size\n",
        "    history.append([avg_train_loss, avg_train_acc])\n",
        "\n",
        "    epoch_end = time.time()\n",
        "\n",
        "    print(\"Epoch : {:03d}, Training: Loss: {:.4f}, Accuracy: {:.4f}%, Time: {:.4f}s\".format(epoch, avg_train_loss, avg_train_acc*100, epoch_end-epoch_start))\n",
        "\n",
        "    if best_acc < avg_train_acc:\n",
        "      best_acc = avg_train_acc\n",
        "      torch.save(model, dataset + '_model_' + str(epoch))\n",
        "\n",
        "\n",
        "  return model, history\n",
        "\n",
        "\n"
      ],
      "execution_count": 77,
      "outputs": []
    },
    {
      "cell_type": "code",
      "metadata": {
        "colab": {
          "base_uri": "https://localhost:8080/"
        },
        "id": "nZJ22arf3-sx",
        "outputId": "fa309dca-436c-4b80-f565-a6628c6d9e5c"
      },
      "source": [
        "num_epochs = 25\n",
        "train_model, history = train(resnet_model, criterion, optimizer, num_epochs)\n",
        "\n",
        "#Saving model\n",
        "torch.save(history, dataset + '_history.pt')"
      ],
      "execution_count": 78,
      "outputs": [
        {
          "output_type": "stream",
          "text": [
            "Epoch: 1/25\n",
            "Batch Number: 050, Training: Loss: 0.9078, Accuracy: 0.6875\n",
            "Epoch : 000, Training: Loss: 1.0374, Accuracy: 57.5610%, Time: 87.3421s\n",
            "Epoch: 2/25\n",
            "Batch Number: 050, Training: Loss: 0.4525, Accuracy: 0.7812\n",
            "Epoch : 001, Training: Loss: 0.4983, Accuracy: 82.6132%, Time: 88.0891s\n",
            "Epoch: 3/25\n",
            "Batch Number: 050, Training: Loss: 0.2333, Accuracy: 0.9062\n",
            "Epoch : 002, Training: Loss: 0.2791, Accuracy: 91.7422%, Time: 87.3974s\n",
            "Epoch: 4/25\n",
            "Batch Number: 050, Training: Loss: 0.1449, Accuracy: 1.0000\n",
            "Epoch : 003, Training: Loss: 0.1573, Accuracy: 95.2962%, Time: 87.4187s\n",
            "Epoch: 5/25\n",
            "Batch Number: 050, Training: Loss: 0.2262, Accuracy: 0.9688\n",
            "Epoch : 004, Training: Loss: 0.1182, Accuracy: 96.5505%, Time: 87.5636s\n",
            "Epoch: 6/25\n",
            "Batch Number: 050, Training: Loss: 0.0444, Accuracy: 1.0000\n",
            "Epoch : 005, Training: Loss: 0.0843, Accuracy: 97.4564%, Time: 87.2218s\n",
            "Epoch: 7/25\n",
            "Batch Number: 050, Training: Loss: 0.0857, Accuracy: 1.0000\n",
            "Epoch : 006, Training: Loss: 0.0461, Accuracy: 98.8502%, Time: 87.8699s\n",
            "Epoch: 8/25\n",
            "Batch Number: 050, Training: Loss: 0.0067, Accuracy: 1.0000\n",
            "Epoch : 007, Training: Loss: 0.0369, Accuracy: 99.0592%, Time: 87.5891s\n",
            "Epoch: 9/25\n",
            "Batch Number: 050, Training: Loss: 0.0266, Accuracy: 1.0000\n",
            "Epoch : 008, Training: Loss: 0.0340, Accuracy: 99.2683%, Time: 87.8092s\n",
            "Epoch: 10/25\n",
            "Batch Number: 050, Training: Loss: 0.0165, Accuracy: 1.0000\n",
            "Epoch : 009, Training: Loss: 0.0336, Accuracy: 99.2334%, Time: 87.4947s\n",
            "Epoch: 11/25\n",
            "Batch Number: 050, Training: Loss: 0.0110, Accuracy: 1.0000\n",
            "Epoch : 010, Training: Loss: 0.0344, Accuracy: 99.0941%, Time: 87.4284s\n",
            "Epoch: 12/25\n",
            "Batch Number: 050, Training: Loss: 0.0300, Accuracy: 1.0000\n",
            "Epoch : 011, Training: Loss: 0.0186, Accuracy: 99.5470%, Time: 87.1674s\n",
            "Epoch: 13/25\n",
            "Batch Number: 050, Training: Loss: 0.0054, Accuracy: 1.0000\n",
            "Epoch : 012, Training: Loss: 0.0245, Accuracy: 99.4425%, Time: 87.1543s\n",
            "Epoch: 14/25\n",
            "Batch Number: 050, Training: Loss: 0.0024, Accuracy: 1.0000\n",
            "Epoch : 013, Training: Loss: 0.0144, Accuracy: 99.7213%, Time: 87.6317s\n",
            "Epoch: 15/25\n",
            "Batch Number: 050, Training: Loss: 0.0227, Accuracy: 1.0000\n",
            "Epoch : 014, Training: Loss: 0.0217, Accuracy: 99.2683%, Time: 87.3007s\n",
            "Epoch: 16/25\n",
            "Batch Number: 050, Training: Loss: 0.0024, Accuracy: 1.0000\n",
            "Epoch : 015, Training: Loss: 0.0241, Accuracy: 99.3728%, Time: 87.7488s\n",
            "Epoch: 17/25\n",
            "Batch Number: 050, Training: Loss: 0.0022, Accuracy: 1.0000\n",
            "Epoch : 016, Training: Loss: 0.0181, Accuracy: 99.5819%, Time: 87.1556s\n",
            "Epoch: 18/25\n",
            "Batch Number: 050, Training: Loss: 0.0061, Accuracy: 1.0000\n",
            "Epoch : 017, Training: Loss: 0.0164, Accuracy: 99.6864%, Time: 87.2436s\n",
            "Epoch: 19/25\n",
            "Batch Number: 050, Training: Loss: 0.0070, Accuracy: 1.0000\n",
            "Epoch : 018, Training: Loss: 0.0140, Accuracy: 99.7909%, Time: 86.6348s\n",
            "Epoch: 20/25\n",
            "Batch Number: 050, Training: Loss: 0.0046, Accuracy: 1.0000\n",
            "Epoch : 019, Training: Loss: 0.0146, Accuracy: 99.6864%, Time: 86.9565s\n",
            "Epoch: 21/25\n",
            "Batch Number: 050, Training: Loss: 0.0004, Accuracy: 1.0000\n",
            "Epoch : 020, Training: Loss: 0.0237, Accuracy: 99.3380%, Time: 87.4169s\n",
            "Epoch: 22/25\n",
            "Batch Number: 050, Training: Loss: 0.0194, Accuracy: 1.0000\n",
            "Epoch : 021, Training: Loss: 0.0121, Accuracy: 99.7213%, Time: 86.5952s\n",
            "Epoch: 23/25\n",
            "Batch Number: 050, Training: Loss: 0.0081, Accuracy: 1.0000\n",
            "Epoch : 022, Training: Loss: 0.0120, Accuracy: 99.5819%, Time: 86.1920s\n",
            "Epoch: 24/25\n",
            "Batch Number: 050, Training: Loss: 0.0024, Accuracy: 1.0000\n",
            "Epoch : 023, Training: Loss: 0.0087, Accuracy: 99.7909%, Time: 86.9141s\n",
            "Epoch: 25/25\n",
            "Batch Number: 050, Training: Loss: 0.0153, Accuracy: 1.0000\n",
            "Epoch : 024, Training: Loss: 0.0079, Accuracy: 99.7561%, Time: 87.3677s\n"
          ],
          "name": "stdout"
        }
      ]
    },
    {
      "cell_type": "code",
      "metadata": {
        "colab": {
          "base_uri": "https://localhost:8080/",
          "height": 279
        },
        "id": "FCo7zgM24Xlr",
        "outputId": "2c116aee-e07e-4940-c0c5-c865f1089746"
      },
      "source": [
        "#Loss Examination Process\n",
        "history = np.array(history)\n",
        "plt.plot(history[:,0])\n",
        "plt.legend(['Tr Loss'])\n",
        "plt.xlabel('Epoch Number')\n",
        "plt.ylabel('Loss')\n",
        "plt.savefig(dataset+'_loss_curve.png')\n",
        "plt.show()"
      ],
      "execution_count": 79,
      "outputs": [
        {
          "output_type": "display_data",
          "data": {
            "image/png": "[encoded data removed]",
            "text/plain": [
              "<Figure size 432x288 with 1 Axes>"
            ]
          },
          "metadata": {
            "needs_background": "light"
          }
        }
      ]
    },
    {
      "cell_type": "code",
      "metadata": {
        "colab": {
          "base_uri": "https://localhost:8080/",
          "height": 279
        },
        "id": "K2EApkXk7b0M",
        "outputId": "80b49f25-9dff-46db-c77c-e51a80f6aa12"
      },
      "source": [
        "#Accuracy Examination Process\n",
        "history = np.array(history)\n",
        "plt.plot(history[:,1])\n",
        "plt.legend(['Tr Accuracy'])\n",
        "plt.xlabel('Epoch Number')\n",
        "plt.ylabel('Accuracy')\n",
        "plt.savefig(dataset + '_accuracy_curve.png')\n",
        "plt.show()"
      ],
      "execution_count": 80,
      "outputs": [
        {
          "output_type": "display_data",
          "data": {
            "image/png": "[encoded data removed]",
            "text/plain": [
              "<Figure size 432x288 with 1 Axes>"
            ]
          },
          "metadata": {
            "needs_background": "light"
          }
        }
      ]
    },
    {
      "cell_type": "code",
      "metadata": {
        "colab": {
          "base_uri": "https://localhost:8080/"
        },
        "id": "G9L5nQOjCa0q",
        "outputId": "95387e81-5926-4f32-ab8a-912343ecd65b"
      },
      "source": [
        "# Test the model\n",
        "resnet_model.eval()\n",
        "correct = 0\n",
        "total = 0\n",
        "\n",
        "with torch.no_grad():\n",
        "    for images, labels in test_data_loader:\n",
        "        images = images.to(device)\n",
        "        labels = labels.to(device)\n",
        "        outputs = resnet_model(images)\n",
        "        _, predicted = torch.max(outputs.data, 1)\n",
        "        total += labels.size(0)\n",
        "        correct += (predicted == labels).sum().item()\n",
        "\n",
        "    print('Accuracy of the model on the test images: {} %'.format(100 * correct / total))"
      ],
      "execution_count": 81,
      "outputs": [
        {
          "output_type": "stream",
          "text": [
            "Accuracy of the model on the test images: 83.248730964467 %\n"
          ],
          "name": "stdout"
        }
      ]
    }
  ]
}